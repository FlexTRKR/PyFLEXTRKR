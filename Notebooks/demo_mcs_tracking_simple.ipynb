{
 "cells": [
  {
   "cell_type": "markdown",
   "id": "88cff726",
   "metadata": {},
   "source": [
    "# Mesoscale Convective System (MCS) Tracking Notebook\n",
    "\n",
    "This notebook implements the MCS tracking workflow using PyFLEXTRKR. It breaks down the process into distinct steps:\n",
    "\n",
    "1. Identify cloud and precipitation features\n",
    "2. Link features in time-adjacent files\n",
    "3. Track features through the entire dataset\n",
    "4. Calculate track statistics\n",
    "5. Identify MCS using brightness temperature (Tb)\n",
    "6. Match precipitation features (PF) to MCS\n",
    "7. Identify robust MCS using both criteria\n",
    "8. Map tracking results to pixel files\n",
    "9. Calculate movement speed\n",
    "10. Remap MCS mask to HEALPix grid\n",
    "\n",
    "Each step can be run independently by setting the appropriate configuration flags.\n",
    "\n",
    "Author:\n",
    "- Zhe Feng (<zhe.feng@pnnl.gov>)"
   ]
  },
  {
   "cell_type": "markdown",
   "id": "6a20ed2a",
   "metadata": {},
   "source": [
    "### Instructions for running PyFLEXTRKR\n",
    "\n",
    "PyFLEXTRKR is designed to be run on the command line. More detailed instructions is available [here](https://github.com/FlexTRKR/PyFLEXTRKR?tab=readme-ov-file#5-running-pyflextrkr).\n",
    "\n",
    "To run PyFLEXTRKR on the command line:\n",
    "\n",
    "```bash\n",
    "python run_mcs_tbpf_mcsmip.py config_file.yml\n",
    "```\n",
    "\n",
    "This notebook is for demonstration purpose to show each of the steps, with a simple visualization after running the tracking. The example uses the SCREAM simulation outputs converted to HEALPix format for [The Digital Earths Global Hackathon](https://github.com/digital-earths-global-hackathon)."
   ]
  },
  {
   "cell_type": "markdown",
   "id": "3d74b83a",
   "metadata": {},
   "source": [
    "## Import Libraries and Setup Logging\n",
    "\n",
    "First, we'll import all necessary libraries and set up logging for the MCS tracking process."
   ]
  },
  {
   "cell_type": "code",
   "execution_count": 1,
   "id": "4d438c2b",
   "metadata": {},
   "outputs": [],
   "source": [
    "import os\n",
    "# import sys\n",
    "import logging\n",
    "import dask\n",
    "from dask.distributed import Client, LocalCluster\n",
    "# import yaml\n",
    "import xarray as xr\n",
    "import pandas as pd\n",
    "import numpy as np\n",
    "import warnings\n",
    "import easygems.healpix as egh\n",
    "import matplotlib.pyplot as plt\n",
    "\n",
    "# Import PyFLEXTRKR modules\n",
    "from pyflextrkr.ft_utilities import load_config, setup_logging\n",
    "from pyflextrkr.idfeature_driver import idfeature_driver\n",
    "from pyflextrkr.tracksingle_driver import tracksingle_driver\n",
    "from pyflextrkr.gettracks import gettracknumbers\n",
    "from pyflextrkr.trackstats_driver import trackstats_driver\n",
    "from pyflextrkr.identifymcs import identifymcs_tb\n",
    "from pyflextrkr.matchtbpf_driver import match_tbpf_tracks\n",
    "from pyflextrkr.robustmcspf_saag import define_robust_mcs_pf\n",
    "from pyflextrkr.mapfeature_driver import mapfeature_driver\n",
    "from pyflextrkr.movement_speed import movement_speed\n",
    "from pyflextrkr.remap_healpix_zarr import remap_to_healpix_zarr\n",
    "\n",
    "# Set up logging\n",
    "setup_logging()\n",
    "logger = logging.getLogger(__name__)\n",
    "\n",
    "# Ignore warnings\n",
    "warnings.filterwarnings(\"ignore\", category=FutureWarning)\n",
    "warnings.filterwarnings(\"ignore\", category=RuntimeWarning)"
   ]
  },
  {
   "cell_type": "markdown",
   "id": "d0bf8cdb",
   "metadata": {},
   "source": [
    "## Load Configuration\n",
    "We'll load the YAML configuration file for the MCS tracking.\n",
    "\n",
    "You can download the example config file from the PyFLEXTRKR repository using [this link](https://raw.githubusercontent.com/FlexTRKR/PyFLEXTRKR/main/config/config_mcs_tbpf_scream_healpix7.yml).\n"
   ]
  },
  {
   "cell_type": "code",
   "execution_count": 2,
   "id": "f1f88c8b",
   "metadata": {},
   "outputs": [],
   "source": [
    "# Specify the configuration file path\n",
    "config_file = \"/global/homes/f/feng045/program/PyFLEXTRKR-dev/config/config_mcs_tbpf_scream_healpix7.yml\""
   ]
  },
  {
   "cell_type": "code",
   "execution_count": 3,
   "id": "50c153c0",
   "metadata": {},
   "outputs": [
    {
     "name": "stdout",
     "output_type": "stream",
     "text": [
      "Successfully loaded configuration from: /global/homes/f/feng045/program/PyFLEXTRKR-dev/config/config_mcs_tbpf_scream_healpix7.yml\n",
      "\n",
      "Key Parameters:\n",
      "Start Date: 20200201.0000\n",
      "End Date: 20200203.0000\n",
      "Parallel Processing: 1\n",
      "Number of Processes: 64\n",
      "Catalog File: https://digital-earths-global-hackathon.github.io/catalog/catalog.yaml\n",
      "\n",
      "Enabled Processing Steps:\n",
      "  run_idfeature: True\n",
      "  run_tracksingle: True\n",
      "  run_gettracks: True\n",
      "  run_trackstats: True\n",
      "  run_identifymcs: True\n",
      "  run_matchpf: True\n",
      "  run_robustmcs: True\n",
      "  run_mapfeature: True\n",
      "  run_speed: True\n",
      "  run_remap_healpix: True\n"
     ]
    }
   ],
   "source": [
    "# Load configuration\n",
    "config = load_config(config_file)\n",
    "print(f\"Successfully loaded configuration from: {config_file}\")\n",
    "\n",
    "# Specify track statistics file basename and pixel-level output directory\n",
    "# for mapping track numbers to pixel files\n",
    "trackstats_filebase = config['trackstats_filebase']  # All Tb tracks\n",
    "mcstbstats_filebase = config['mcstbstats_filebase']  # MCS tracks defined by Tb-only\n",
    "mcsrobust_filebase = config['mcsrobust_filebase']   # MCS tracks defined by Tb+PF\n",
    "mcstbmap_outpath = 'mcstracking_tb'     # Output directory for Tb-only MCS\n",
    "alltrackmap_outpath = 'ccstracking'     # Output directory for all Tb tracks\n",
    "\n",
    "# Return the config and show key parameters\n",
    "print(\"\\nKey Parameters:\")\n",
    "print(f\"Start Date: {config.get('startdate', 'Not specified')}\")\n",
    "print(f\"End Date: {config.get('enddate', 'Not specified')}\")\n",
    "print(f\"Parallel Processing: {config.get('run_parallel', 0)}\")\n",
    "if config.get('run_parallel', 0) == 1:\n",
    "    print(f\"Number of Processes: {config.get('nprocesses', 'Not specified')}\")\n",
    "print(f\"Catalog File: {config.get('catalog_file', 'Not specified')}\")\n",
    "\n",
    "# Show which steps are enabled\n",
    "print(\"\\nEnabled Processing Steps:\")\n",
    "steps = [\n",
    "    'run_idfeature', 'run_tracksingle', 'run_gettracks', \n",
    "    'run_trackstats', 'run_identifymcs', 'run_matchpf',\n",
    "    'run_robustmcs', 'run_mapfeature', 'run_speed', \n",
    "    'run_remap_healpix'\n",
    "]\n",
    "for step in steps:\n",
    "    print(f\"  {step}: {config.get(step, False)}\")"
   ]
  },
  {
   "cell_type": "markdown",
   "id": "f4a2a89a",
   "metadata": {},
   "source": [
    "## Setup Parallel Processing with Dask\n",
    "We'll set up Dask for parallel processing, supporting either serial mode or local cluster."
   ]
  },
  {
   "cell_type": "code",
   "execution_count": 4,
   "id": "30c45e57",
   "metadata": {},
   "outputs": [
    {
     "name": "stdout",
     "output_type": "stream",
     "text": [
      "Initializing local Dask cluster with 64 workers...\n"
     ]
    },
    {
     "name": "stderr",
     "output_type": "stream",
     "text": [
      "/global/common/software/m1867/python/pyflex-dev/lib/python3.12/site-packages/distributed/node.py:187: UserWarning: Port 8787 is already in use.\n",
      "Perhaps you already have a cluster running?\n",
      "Hosting the HTTP server on port 33237 instead\n",
      "  warnings.warn(\n"
     ]
    },
    {
     "name": "stdout",
     "output_type": "stream",
     "text": [
      "Local Dask cluster initialized with 64 workers\n",
      "Dashboard link: http://127.0.0.1:33237/status\n"
     ]
    }
   ],
   "source": [
    "# Parallel processing options\n",
    "run_parallel = config.get('run_parallel', 0)\n",
    "\n",
    "if run_parallel == 1:\n",
    "    # Set Dask temporary directory for workers\n",
    "    dask_tmp_dir = config.get(\"dask_tmp_dir\", \"./\")\n",
    "    dask.config.set({'temporary-directory': dask_tmp_dir})\n",
    "    \n",
    "    # Local cluster\n",
    "    print(f\"Initializing local Dask cluster with {config['nprocesses']} workers...\")\n",
    "    cluster = LocalCluster(n_workers=config['nprocesses'], threads_per_worker=1)\n",
    "    client = Client(cluster)\n",
    "    client.run(setup_logging)\n",
    "    print(f\"Local Dask cluster initialized with {len(client.scheduler_info()['workers'])} workers\")\n",
    "    print(f\"Dashboard link: {client.dashboard_link}\")\n",
    "else:\n",
    "    print(\"Running in serial mode\")"
   ]
  },
  {
   "cell_type": "markdown",
   "id": "2e2c9c38",
   "metadata": {},
   "source": [
    "## Run Tracking"
   ]
  },
  {
   "cell_type": "markdown",
   "id": "7a9daa4c",
   "metadata": {},
   "source": [
    "### Step 1: Identify Features\n",
    "\n",
    "This step identifies cloud and precipitation features in the dataset. The `idfeature_driver` function processes the input data to identify objects based on cloud brightness temperature and precipitation thresholds."
   ]
  },
  {
   "cell_type": "code",
   "execution_count": 5,
   "id": "6e423909",
   "metadata": {},
   "outputs": [
    {
     "name": "stderr",
     "output_type": "stream",
     "text": [
      "2025-05-08 10:16:13,833 - pyflextrkr.idfeature_driver - INFO - Identifying features from raw data\n"
     ]
    },
    {
     "name": "stdout",
     "output_type": "stream",
     "text": [
      "Running Step 1: Identify features...\n"
     ]
    },
    {
     "name": "stderr",
     "output_type": "stream",
     "text": [
      "2025-05-08 10:16:16,952 - pyflextrkr.idfeature_driver - INFO - Total number of time steps to process: 49\n",
      "2025-05-08 10:16:24,441 - pyflextrkr.idclouds_tbpf - INFO - /pscratch/sd/w/wcmca1/scream-cess-healpix/mcs_tracking_hp7//tracking/cloudid_20200201_050000.nc\n",
      "2025-05-08 10:16:24,672 - pyflextrkr.idclouds_tbpf - INFO - /pscratch/sd/w/wcmca1/scream-cess-healpix/mcs_tracking_hp7//tracking/cloudid_20200201_060000.nc\n",
      "2025-05-08 10:16:25,050 - pyflextrkr.idclouds_tbpf - INFO - /pscratch/sd/w/wcmca1/scream-cess-healpix/mcs_tracking_hp7//tracking/cloudid_20200202_020000.nc\n",
      "2025-05-08 10:16:25,177 - pyflextrkr.idclouds_tbpf - INFO - /pscratch/sd/w/wcmca1/scream-cess-healpix/mcs_tracking_hp7//tracking/cloudid_20200203_000000.nc\n",
      "2025-05-08 10:16:25,428 - pyflextrkr.idclouds_tbpf - INFO - /pscratch/sd/w/wcmca1/scream-cess-healpix/mcs_tracking_hp7//tracking/cloudid_20200202_080000.nc\n",
      "2025-05-08 10:16:25,817 - pyflextrkr.idclouds_tbpf - INFO - /pscratch/sd/w/wcmca1/scream-cess-healpix/mcs_tracking_hp7//tracking/cloudid_20200201_070000.nc\n",
      "2025-05-08 10:16:26,353 - pyflextrkr.idclouds_tbpf - INFO - /pscratch/sd/w/wcmca1/scream-cess-healpix/mcs_tracking_hp7//tracking/cloudid_20200201_100000.nc\n",
      "2025-05-08 10:16:26,501 - pyflextrkr.idclouds_tbpf - INFO - /pscratch/sd/w/wcmca1/scream-cess-healpix/mcs_tracking_hp7//tracking/cloudid_20200201_090000.nc\n",
      "2025-05-08 10:16:26,765 - pyflextrkr.idclouds_tbpf - INFO - /pscratch/sd/w/wcmca1/scream-cess-healpix/mcs_tracking_hp7//tracking/cloudid_20200201_130000.nc\n",
      "2025-05-08 10:16:26,843 - pyflextrkr.idclouds_tbpf - INFO - /pscratch/sd/w/wcmca1/scream-cess-healpix/mcs_tracking_hp7//tracking/cloudid_20200201_110000.nc\n",
      "2025-05-08 10:16:26,885 - pyflextrkr.idclouds_tbpf - INFO - /pscratch/sd/w/wcmca1/scream-cess-healpix/mcs_tracking_hp7//tracking/cloudid_20200201_150000.nc\n",
      "2025-05-08 10:16:26,920 - pyflextrkr.idclouds_tbpf - INFO - /pscratch/sd/w/wcmca1/scream-cess-healpix/mcs_tracking_hp7//tracking/cloudid_20200201_030000.nc\n",
      "2025-05-08 10:16:26,940 - pyflextrkr.idclouds_tbpf - INFO - /pscratch/sd/w/wcmca1/scream-cess-healpix/mcs_tracking_hp7//tracking/cloudid_20200202_130000.nc\n",
      "2025-05-08 10:16:27,041 - pyflextrkr.idclouds_tbpf - INFO - /pscratch/sd/w/wcmca1/scream-cess-healpix/mcs_tracking_hp7//tracking/cloudid_20200202_050000.nc\n",
      "2025-05-08 10:16:27,070 - pyflextrkr.idclouds_tbpf - INFO - /pscratch/sd/w/wcmca1/scream-cess-healpix/mcs_tracking_hp7//tracking/cloudid_20200201_020000.nc\n",
      "2025-05-08 10:16:27,122 - pyflextrkr.idclouds_tbpf - INFO - /pscratch/sd/w/wcmca1/scream-cess-healpix/mcs_tracking_hp7//tracking/cloudid_20200201_160000.nc\n",
      "2025-05-08 10:16:27,144 - pyflextrkr.idclouds_tbpf - INFO - /pscratch/sd/w/wcmca1/scream-cess-healpix/mcs_tracking_hp7//tracking/cloudid_20200201_200000.nc\n",
      "2025-05-08 10:16:27,183 - pyflextrkr.idclouds_tbpf - INFO - /pscratch/sd/w/wcmca1/scream-cess-healpix/mcs_tracking_hp7//tracking/cloudid_20200201_010000.nc\n",
      "2025-05-08 10:16:27,290 - pyflextrkr.idclouds_tbpf - INFO - /pscratch/sd/w/wcmca1/scream-cess-healpix/mcs_tracking_hp7//tracking/cloudid_20200201_120000.nc\n",
      "2025-05-08 10:16:27,335 - pyflextrkr.idclouds_tbpf - INFO - /pscratch/sd/w/wcmca1/scream-cess-healpix/mcs_tracking_hp7//tracking/cloudid_20200202_150000.nc\n",
      "2025-05-08 10:16:27,341 - pyflextrkr.idclouds_tbpf - INFO - /pscratch/sd/w/wcmca1/scream-cess-healpix/mcs_tracking_hp7//tracking/cloudid_20200201_000000.nc\n",
      "2025-05-08 10:16:27,373 - pyflextrkr.idclouds_tbpf - INFO - /pscratch/sd/w/wcmca1/scream-cess-healpix/mcs_tracking_hp7//tracking/cloudid_20200201_190000.nc\n",
      "2025-05-08 10:16:27,390 - pyflextrkr.idclouds_tbpf - INFO - /pscratch/sd/w/wcmca1/scream-cess-healpix/mcs_tracking_hp7//tracking/cloudid_20200202_100000.nc\n",
      "2025-05-08 10:16:27,438 - pyflextrkr.idclouds_tbpf - INFO - /pscratch/sd/w/wcmca1/scream-cess-healpix/mcs_tracking_hp7//tracking/cloudid_20200202_060000.nc\n",
      "2025-05-08 10:16:27,536 - pyflextrkr.idclouds_tbpf - INFO - /pscratch/sd/w/wcmca1/scream-cess-healpix/mcs_tracking_hp7//tracking/cloudid_20200202_190000.nc\n",
      "2025-05-08 10:16:27,604 - pyflextrkr.idclouds_tbpf - INFO - /pscratch/sd/w/wcmca1/scream-cess-healpix/mcs_tracking_hp7//tracking/cloudid_20200201_040000.nc\n",
      "2025-05-08 10:16:27,678 - pyflextrkr.idclouds_tbpf - INFO - /pscratch/sd/w/wcmca1/scream-cess-healpix/mcs_tracking_hp7//tracking/cloudid_20200202_210000.nc\n",
      "2025-05-08 10:16:27,843 - pyflextrkr.idclouds_tbpf - INFO - /pscratch/sd/w/wcmca1/scream-cess-healpix/mcs_tracking_hp7//tracking/cloudid_20200201_140000.nc\n",
      "2025-05-08 10:16:27,929 - pyflextrkr.idclouds_tbpf - INFO - /pscratch/sd/w/wcmca1/scream-cess-healpix/mcs_tracking_hp7//tracking/cloudid_20200202_230000.nc\n",
      "2025-05-08 10:16:27,946 - pyflextrkr.idclouds_tbpf - INFO - /pscratch/sd/w/wcmca1/scream-cess-healpix/mcs_tracking_hp7//tracking/cloudid_20200202_200000.nc\n",
      "2025-05-08 10:16:28,867 - pyflextrkr.idclouds_tbpf - INFO - /pscratch/sd/w/wcmca1/scream-cess-healpix/mcs_tracking_hp7//tracking/cloudid_20200202_010000.nc\n",
      "2025-05-08 10:16:29,158 - pyflextrkr.idclouds_tbpf - INFO - /pscratch/sd/w/wcmca1/scream-cess-healpix/mcs_tracking_hp7//tracking/cloudid_20200201_220000.nc\n",
      "2025-05-08 10:16:29,373 - pyflextrkr.idclouds_tbpf - INFO - /pscratch/sd/w/wcmca1/scream-cess-healpix/mcs_tracking_hp7//tracking/cloudid_20200202_120000.nc\n",
      "2025-05-08 10:16:29,703 - pyflextrkr.idclouds_tbpf - INFO - /pscratch/sd/w/wcmca1/scream-cess-healpix/mcs_tracking_hp7//tracking/cloudid_20200201_080000.nc\n",
      "2025-05-08 10:16:29,889 - pyflextrkr.idclouds_tbpf - INFO - /pscratch/sd/w/wcmca1/scream-cess-healpix/mcs_tracking_hp7//tracking/cloudid_20200201_170000.nc\n",
      "2025-05-08 10:16:30,490 - pyflextrkr.idclouds_tbpf - INFO - /pscratch/sd/w/wcmca1/scream-cess-healpix/mcs_tracking_hp7//tracking/cloudid_20200201_230000.nc\n",
      "2025-05-08 10:16:31,169 - pyflextrkr.idclouds_tbpf - INFO - /pscratch/sd/w/wcmca1/scream-cess-healpix/mcs_tracking_hp7//tracking/cloudid_20200202_160000.nc\n",
      "2025-05-08 10:16:32,600 - pyflextrkr.idclouds_tbpf - INFO - /pscratch/sd/w/wcmca1/scream-cess-healpix/mcs_tracking_hp7//tracking/cloudid_20200202_140000.nc\n",
      "2025-05-08 10:16:32,817 - pyflextrkr.idclouds_tbpf - INFO - /pscratch/sd/w/wcmca1/scream-cess-healpix/mcs_tracking_hp7//tracking/cloudid_20200202_000000.nc\n",
      "2025-05-08 10:16:32,966 - pyflextrkr.idclouds_tbpf - INFO - /pscratch/sd/w/wcmca1/scream-cess-healpix/mcs_tracking_hp7//tracking/cloudid_20200202_180000.nc\n",
      "2025-05-08 10:16:33,077 - pyflextrkr.idclouds_tbpf - INFO - /pscratch/sd/w/wcmca1/scream-cess-healpix/mcs_tracking_hp7//tracking/cloudid_20200202_070000.nc\n",
      "2025-05-08 10:16:33,343 - pyflextrkr.idclouds_tbpf - INFO - /pscratch/sd/w/wcmca1/scream-cess-healpix/mcs_tracking_hp7//tracking/cloudid_20200202_030000.nc\n",
      "2025-05-08 10:16:33,389 - pyflextrkr.idclouds_tbpf - INFO - /pscratch/sd/w/wcmca1/scream-cess-healpix/mcs_tracking_hp7//tracking/cloudid_20200202_040000.nc\n",
      "2025-05-08 10:16:33,703 - pyflextrkr.idclouds_tbpf - INFO - /pscratch/sd/w/wcmca1/scream-cess-healpix/mcs_tracking_hp7//tracking/cloudid_20200202_090000.nc\n",
      "2025-05-08 10:16:33,720 - pyflextrkr.idclouds_tbpf - INFO - /pscratch/sd/w/wcmca1/scream-cess-healpix/mcs_tracking_hp7//tracking/cloudid_20200202_170000.nc\n",
      "2025-05-08 10:16:33,737 - pyflextrkr.idclouds_tbpf - INFO - /pscratch/sd/w/wcmca1/scream-cess-healpix/mcs_tracking_hp7//tracking/cloudid_20200202_110000.nc\n",
      "2025-05-08 10:16:34,089 - pyflextrkr.idclouds_tbpf - INFO - /pscratch/sd/w/wcmca1/scream-cess-healpix/mcs_tracking_hp7//tracking/cloudid_20200201_180000.nc\n",
      "2025-05-08 10:16:34,235 - pyflextrkr.idclouds_tbpf - INFO - /pscratch/sd/w/wcmca1/scream-cess-healpix/mcs_tracking_hp7//tracking/cloudid_20200202_220000.nc\n",
      "2025-05-08 10:16:35,176 - pyflextrkr.idclouds_tbpf - INFO - /pscratch/sd/w/wcmca1/scream-cess-healpix/mcs_tracking_hp7//tracking/cloudid_20200201_210000.nc\n",
      "2025-05-08 10:16:35,237 - pyflextrkr.idfeature_driver - INFO - Done with features from raw data.\n"
     ]
    },
    {
     "name": "stdout",
     "output_type": "stream",
     "text": [
      "Completed identifying features.\n"
     ]
    }
   ],
   "source": [
    "# Step 1 - Identify features\n",
    "if config.get('run_idfeature', False):\n",
    "    print(\"Running Step 1: Identify features...\")\n",
    "    idfeature_driver(config)\n",
    "    print(\"Completed identifying features.\")\n",
    "else:\n",
    "    print(\"Skipping Step 1: Identify features (disabled in configuration)\")"
   ]
  },
  {
   "cell_type": "markdown",
   "id": "e46f41d0",
   "metadata": {},
   "source": [
    "### Step 2: Link Features in Time Adjacent Files\n",
    "\n",
    "This step links the identified features between consecutive timesteps, establishing temporal connections. The `tracksingle_driver` function analyzes spatial overlap between features in adjacent timesteps."
   ]
  },
  {
   "cell_type": "code",
   "execution_count": 6,
   "id": "55acd34d",
   "metadata": {},
   "outputs": [
    {
     "name": "stderr",
     "output_type": "stream",
     "text": [
      "2025-05-08 10:16:35,303 - pyflextrkr.tracksingle_driver - INFO - Tracking sequential pairs of idfeature files\n",
      "2025-05-08 10:16:35,307 - pyflextrkr.tracksingle_driver - INFO - Total number of files to process: 49\n"
     ]
    },
    {
     "name": "stdout",
     "output_type": "stream",
     "text": [
      "Running Step 2: Link features in time adjacent files...\n"
     ]
    },
    {
     "name": "stderr",
     "output_type": "stream",
     "text": [
      "2025-05-08 10:16:37,061 - pyflextrkr.tracksingle_drift - INFO - /pscratch/sd/w/wcmca1/scream-cess-healpix/mcs_tracking_hp7//tracking/track_20200202_020000.nc\n",
      "2025-05-08 10:16:37,089 - pyflextrkr.tracksingle_drift - INFO - /pscratch/sd/w/wcmca1/scream-cess-healpix/mcs_tracking_hp7//tracking/track_20200201_020000.nc\n",
      "2025-05-08 10:16:37,352 - pyflextrkr.tracksingle_drift - INFO - /pscratch/sd/w/wcmca1/scream-cess-healpix/mcs_tracking_hp7//tracking/track_20200202_100000.nc\n",
      "2025-05-08 10:16:37,548 - pyflextrkr.tracksingle_drift - INFO - /pscratch/sd/w/wcmca1/scream-cess-healpix/mcs_tracking_hp7//tracking/track_20200201_060000.nc\n",
      "2025-05-08 10:16:37,584 - pyflextrkr.tracksingle_drift - INFO - /pscratch/sd/w/wcmca1/scream-cess-healpix/mcs_tracking_hp7//tracking/track_20200201_190000.nc\n",
      "2025-05-08 10:16:37,607 - pyflextrkr.tracksingle_drift - INFO - /pscratch/sd/w/wcmca1/scream-cess-healpix/mcs_tracking_hp7//tracking/track_20200202_170000.nc\n",
      "2025-05-08 10:16:37,661 - pyflextrkr.tracksingle_drift - INFO - /pscratch/sd/w/wcmca1/scream-cess-healpix/mcs_tracking_hp7//tracking/track_20200202_120000.nc\n",
      "2025-05-08 10:16:37,902 - pyflextrkr.tracksingle_drift - INFO - /pscratch/sd/w/wcmca1/scream-cess-healpix/mcs_tracking_hp7//tracking/track_20200201_080000.nc\n",
      "2025-05-08 10:16:38,028 - pyflextrkr.tracksingle_drift - INFO - /pscratch/sd/w/wcmca1/scream-cess-healpix/mcs_tracking_hp7//tracking/track_20200201_100000.nc\n",
      "2025-05-08 10:16:38,098 - pyflextrkr.tracksingle_drift - INFO - /pscratch/sd/w/wcmca1/scream-cess-healpix/mcs_tracking_hp7//tracking/track_20200201_030000.nc\n",
      "2025-05-08 10:16:38,113 - pyflextrkr.tracksingle_drift - INFO - /pscratch/sd/w/wcmca1/scream-cess-healpix/mcs_tracking_hp7//tracking/track_20200201_130000.nc\n",
      "2025-05-08 10:16:38,115 - pyflextrkr.tracksingle_drift - INFO - /pscratch/sd/w/wcmca1/scream-cess-healpix/mcs_tracking_hp7//tracking/track_20200202_140000.nc\n",
      "2025-05-08 10:16:38,138 - pyflextrkr.tracksingle_drift - INFO - /pscratch/sd/w/wcmca1/scream-cess-healpix/mcs_tracking_hp7//tracking/track_20200201_010000.nc\n",
      "2025-05-08 10:16:38,147 - pyflextrkr.tracksingle_drift - INFO - /pscratch/sd/w/wcmca1/scream-cess-healpix/mcs_tracking_hp7//tracking/track_20200202_050000.nc\n",
      "2025-05-08 10:16:38,200 - pyflextrkr.tracksingle_drift - INFO - /pscratch/sd/w/wcmca1/scream-cess-healpix/mcs_tracking_hp7//tracking/track_20200201_140000.nc\n",
      "2025-05-08 10:16:38,288 - pyflextrkr.tracksingle_drift - INFO - /pscratch/sd/w/wcmca1/scream-cess-healpix/mcs_tracking_hp7//tracking/track_20200202_180000.nc\n",
      "2025-05-08 10:16:38,293 - pyflextrkr.tracksingle_drift - INFO - /pscratch/sd/w/wcmca1/scream-cess-healpix/mcs_tracking_hp7//tracking/track_20200201_170000.nc\n",
      "2025-05-08 10:16:38,300 - pyflextrkr.tracksingle_drift - INFO - /pscratch/sd/w/wcmca1/scream-cess-healpix/mcs_tracking_hp7//tracking/track_20200201_230000.nc\n",
      "2025-05-08 10:16:38,304 - pyflextrkr.tracksingle_drift - INFO - /pscratch/sd/w/wcmca1/scream-cess-healpix/mcs_tracking_hp7//tracking/track_20200202_190000.nc\n",
      "2025-05-08 10:16:38,350 - pyflextrkr.tracksingle_drift - INFO - /pscratch/sd/w/wcmca1/scream-cess-healpix/mcs_tracking_hp7//tracking/track_20200201_220000.nc\n",
      "2025-05-08 10:16:38,351 - pyflextrkr.tracksingle_drift - INFO - /pscratch/sd/w/wcmca1/scream-cess-healpix/mcs_tracking_hp7//tracking/track_20200202_210000.nc\n",
      "2025-05-08 10:16:38,355 - pyflextrkr.tracksingle_drift - INFO - /pscratch/sd/w/wcmca1/scream-cess-healpix/mcs_tracking_hp7//tracking/track_20200202_110000.nc\n",
      "2025-05-08 10:16:38,365 - pyflextrkr.tracksingle_drift - INFO - /pscratch/sd/w/wcmca1/scream-cess-healpix/mcs_tracking_hp7//tracking/track_20200201_150000.nc\n",
      "2025-05-08 10:16:38,368 - pyflextrkr.tracksingle_drift - INFO - /pscratch/sd/w/wcmca1/scream-cess-healpix/mcs_tracking_hp7//tracking/track_20200201_070000.nc\n",
      "2025-05-08 10:16:38,411 - pyflextrkr.tracksingle_drift - INFO - /pscratch/sd/w/wcmca1/scream-cess-healpix/mcs_tracking_hp7//tracking/track_20200202_200000.nc\n",
      "2025-05-08 10:16:38,412 - pyflextrkr.tracksingle_drift - INFO - /pscratch/sd/w/wcmca1/scream-cess-healpix/mcs_tracking_hp7//tracking/track_20200202_000000.nc\n",
      "2025-05-08 10:16:38,433 - pyflextrkr.tracksingle_drift - INFO - /pscratch/sd/w/wcmca1/scream-cess-healpix/mcs_tracking_hp7//tracking/track_20200202_230000.nc\n",
      "2025-05-08 10:16:38,459 - pyflextrkr.tracksingle_drift - INFO - /pscratch/sd/w/wcmca1/scream-cess-healpix/mcs_tracking_hp7//tracking/track_20200202_010000.nc\n",
      "2025-05-08 10:16:38,469 - pyflextrkr.tracksingle_drift - INFO - /pscratch/sd/w/wcmca1/scream-cess-healpix/mcs_tracking_hp7//tracking/track_20200202_060000.nc\n",
      "2025-05-08 10:16:38,494 - pyflextrkr.tracksingle_drift - INFO - /pscratch/sd/w/wcmca1/scream-cess-healpix/mcs_tracking_hp7//tracking/track_20200201_110000.nc\n",
      "2025-05-08 10:16:38,495 - pyflextrkr.tracksingle_drift - INFO - /pscratch/sd/w/wcmca1/scream-cess-healpix/mcs_tracking_hp7//tracking/track_20200201_200000.nc\n",
      "2025-05-08 10:16:38,499 - pyflextrkr.tracksingle_drift - INFO - /pscratch/sd/w/wcmca1/scream-cess-healpix/mcs_tracking_hp7//tracking/track_20200202_220000.nc\n",
      "2025-05-08 10:16:38,499 - pyflextrkr.tracksingle_drift - INFO - /pscratch/sd/w/wcmca1/scream-cess-healpix/mcs_tracking_hp7//tracking/track_20200203_000000.nc\n",
      "2025-05-08 10:16:38,502 - pyflextrkr.tracksingle_drift - INFO - /pscratch/sd/w/wcmca1/scream-cess-healpix/mcs_tracking_hp7//tracking/track_20200202_070000.nc\n",
      "2025-05-08 10:16:38,516 - pyflextrkr.tracksingle_drift - INFO - /pscratch/sd/w/wcmca1/scream-cess-healpix/mcs_tracking_hp7//tracking/track_20200201_210000.nc\n",
      "2025-05-08 10:16:38,529 - pyflextrkr.tracksingle_drift - INFO - /pscratch/sd/w/wcmca1/scream-cess-healpix/mcs_tracking_hp7//tracking/track_20200201_180000.nc\n",
      "2025-05-08 10:16:38,548 - pyflextrkr.tracksingle_drift - INFO - /pscratch/sd/w/wcmca1/scream-cess-healpix/mcs_tracking_hp7//tracking/track_20200201_090000.nc\n",
      "2025-05-08 10:16:38,580 - pyflextrkr.tracksingle_drift - INFO - /pscratch/sd/w/wcmca1/scream-cess-healpix/mcs_tracking_hp7//tracking/track_20200202_030000.nc\n",
      "2025-05-08 10:16:38,589 - pyflextrkr.tracksingle_drift - INFO - /pscratch/sd/w/wcmca1/scream-cess-healpix/mcs_tracking_hp7//tracking/track_20200201_040000.nc\n",
      "2025-05-08 10:16:38,593 - pyflextrkr.tracksingle_drift - INFO - /pscratch/sd/w/wcmca1/scream-cess-healpix/mcs_tracking_hp7//tracking/track_20200201_120000.nc\n",
      "2025-05-08 10:16:38,648 - pyflextrkr.tracksingle_drift - INFO - /pscratch/sd/w/wcmca1/scream-cess-healpix/mcs_tracking_hp7//tracking/track_20200202_090000.nc\n",
      "2025-05-08 10:16:38,675 - pyflextrkr.tracksingle_drift - INFO - /pscratch/sd/w/wcmca1/scream-cess-healpix/mcs_tracking_hp7//tracking/track_20200202_040000.nc\n",
      "2025-05-08 10:16:38,684 - pyflextrkr.tracksingle_drift - INFO - /pscratch/sd/w/wcmca1/scream-cess-healpix/mcs_tracking_hp7//tracking/track_20200202_080000.nc\n",
      "2025-05-08 10:16:38,862 - pyflextrkr.tracksingle_drift - INFO - /pscratch/sd/w/wcmca1/scream-cess-healpix/mcs_tracking_hp7//tracking/track_20200202_130000.nc\n",
      "2025-05-08 10:16:38,872 - pyflextrkr.tracksingle_drift - INFO - /pscratch/sd/w/wcmca1/scream-cess-healpix/mcs_tracking_hp7//tracking/track_20200201_160000.nc\n",
      "2025-05-08 10:16:39,177 - pyflextrkr.tracksingle_drift - INFO - /pscratch/sd/w/wcmca1/scream-cess-healpix/mcs_tracking_hp7//tracking/track_20200201_050000.nc\n",
      "2025-05-08 10:16:39,978 - pyflextrkr.tracksingle_drift - INFO - /pscratch/sd/w/wcmca1/scream-cess-healpix/mcs_tracking_hp7//tracking/track_20200202_150000.nc\n",
      "2025-05-08 10:16:40,164 - pyflextrkr.tracksingle_drift - INFO - /pscratch/sd/w/wcmca1/scream-cess-healpix/mcs_tracking_hp7//tracking/track_20200202_160000.nc\n",
      "2025-05-08 10:16:40,199 - pyflextrkr.tracksingle_driver - INFO - Done with tracking sequential pairs of idfeature files\n"
     ]
    },
    {
     "name": "stdout",
     "output_type": "stream",
     "text": [
      "Completed linking features.\n"
     ]
    }
   ],
   "source": [
    "# Step 2 - Link features in time adjacent files\n",
    "if config.get('run_tracksingle', False):\n",
    "    print(\"Running Step 2: Link features in time adjacent files...\")\n",
    "    tracksingle_driver(config)\n",
    "    print(\"Completed linking features.\")\n",
    "else:\n",
    "    print(\"Skipping Step 2: Link features (disabled in configuration)\")"
   ]
  },
  {
   "cell_type": "markdown",
   "id": "37998776",
   "metadata": {},
   "source": [
    "### Step 3: Track Features Through the Dataset\n",
    "\n",
    "This step connects the time-adjacent links to form complete tracks through the entire dataset. The `gettracknumbers` function assigns unique track identifiers to each connected feature chain."
   ]
  },
  {
   "cell_type": "code",
   "execution_count": 7,
   "id": "d12fba49",
   "metadata": {},
   "outputs": [
    {
     "name": "stderr",
     "output_type": "stream",
     "text": [
      "2025-05-08 10:16:40,259 - pyflextrkr.gettracks - INFO - Tracking features sequentially from single track files\n",
      "2025-05-08 10:16:40,263 - pyflextrkr.gettracks - INFO - Total number of files to process: 48\n",
      "2025-05-08 10:16:40,271 - pyflextrkr.gettracks - INFO - track_20200201_010000.nc\n"
     ]
    },
    {
     "name": "stdout",
     "output_type": "stream",
     "text": [
      "Running Step 3: Track features through the entire dataset...\n"
     ]
    },
    {
     "name": "stderr",
     "output_type": "stream",
     "text": [
      "2025-05-08 10:16:40,747 - pyflextrkr.gettracks - INFO - track_20200201_020000.nc\n",
      "2025-05-08 10:16:41,220 - pyflextrkr.gettracks - INFO - track_20200201_030000.nc\n",
      "2025-05-08 10:16:41,678 - pyflextrkr.gettracks - INFO - track_20200201_040000.nc\n",
      "2025-05-08 10:16:42,182 - pyflextrkr.gettracks - INFO - track_20200201_050000.nc\n",
      "2025-05-08 10:16:42,642 - pyflextrkr.gettracks - INFO - track_20200201_060000.nc\n",
      "2025-05-08 10:16:43,125 - pyflextrkr.gettracks - INFO - track_20200201_070000.nc\n",
      "2025-05-08 10:16:43,592 - pyflextrkr.gettracks - INFO - track_20200201_080000.nc\n",
      "2025-05-08 10:16:44,045 - pyflextrkr.gettracks - INFO - track_20200201_090000.nc\n",
      "2025-05-08 10:16:44,473 - pyflextrkr.gettracks - INFO - track_20200201_100000.nc\n",
      "2025-05-08 10:16:44,919 - pyflextrkr.gettracks - INFO - track_20200201_110000.nc\n",
      "2025-05-08 10:16:45,374 - pyflextrkr.gettracks - INFO - track_20200201_120000.nc\n",
      "2025-05-08 10:16:45,824 - pyflextrkr.gettracks - INFO - track_20200201_130000.nc\n",
      "2025-05-08 10:16:46,273 - pyflextrkr.gettracks - INFO - track_20200201_140000.nc\n",
      "2025-05-08 10:16:46,745 - pyflextrkr.gettracks - INFO - track_20200201_150000.nc\n",
      "2025-05-08 10:16:47,256 - pyflextrkr.gettracks - INFO - track_20200201_160000.nc\n",
      "2025-05-08 10:16:47,753 - pyflextrkr.gettracks - INFO - track_20200201_170000.nc\n",
      "2025-05-08 10:16:48,224 - pyflextrkr.gettracks - INFO - track_20200201_180000.nc\n",
      "2025-05-08 10:16:48,727 - pyflextrkr.gettracks - INFO - track_20200201_190000.nc\n",
      "2025-05-08 10:16:49,247 - pyflextrkr.gettracks - INFO - track_20200201_200000.nc\n",
      "2025-05-08 10:16:49,725 - pyflextrkr.gettracks - INFO - track_20200201_210000.nc\n",
      "2025-05-08 10:16:50,213 - pyflextrkr.gettracks - INFO - track_20200201_220000.nc\n",
      "2025-05-08 10:16:50,705 - pyflextrkr.gettracks - INFO - track_20200201_230000.nc\n",
      "2025-05-08 10:16:51,198 - pyflextrkr.gettracks - INFO - track_20200202_000000.nc\n",
      "2025-05-08 10:16:51,686 - pyflextrkr.gettracks - INFO - track_20200202_010000.nc\n",
      "2025-05-08 10:16:52,137 - pyflextrkr.gettracks - INFO - track_20200202_020000.nc\n",
      "2025-05-08 10:16:52,626 - pyflextrkr.gettracks - INFO - track_20200202_030000.nc\n",
      "2025-05-08 10:16:53,105 - pyflextrkr.gettracks - INFO - track_20200202_040000.nc\n",
      "2025-05-08 10:16:53,570 - pyflextrkr.gettracks - INFO - track_20200202_050000.nc\n",
      "2025-05-08 10:16:53,996 - pyflextrkr.gettracks - INFO - track_20200202_060000.nc\n",
      "2025-05-08 10:16:54,456 - pyflextrkr.gettracks - INFO - track_20200202_070000.nc\n",
      "2025-05-08 10:16:54,919 - pyflextrkr.gettracks - INFO - track_20200202_080000.nc\n",
      "2025-05-08 10:16:55,410 - pyflextrkr.gettracks - INFO - track_20200202_090000.nc\n",
      "2025-05-08 10:16:55,888 - pyflextrkr.gettracks - INFO - track_20200202_100000.nc\n",
      "2025-05-08 10:16:56,382 - pyflextrkr.gettracks - INFO - track_20200202_110000.nc\n",
      "2025-05-08 10:16:56,911 - pyflextrkr.gettracks - INFO - track_20200202_120000.nc\n",
      "2025-05-08 10:16:57,411 - pyflextrkr.gettracks - INFO - track_20200202_130000.nc\n",
      "2025-05-08 10:16:57,882 - pyflextrkr.gettracks - INFO - track_20200202_140000.nc\n",
      "2025-05-08 10:16:58,331 - pyflextrkr.gettracks - INFO - track_20200202_150000.nc\n",
      "2025-05-08 10:16:58,794 - pyflextrkr.gettracks - INFO - track_20200202_160000.nc\n",
      "2025-05-08 10:16:59,301 - pyflextrkr.gettracks - INFO - track_20200202_170000.nc\n",
      "2025-05-08 10:16:59,829 - pyflextrkr.gettracks - INFO - track_20200202_180000.nc\n",
      "2025-05-08 10:17:00,338 - pyflextrkr.gettracks - INFO - track_20200202_190000.nc\n",
      "2025-05-08 10:17:00,868 - pyflextrkr.gettracks - INFO - track_20200202_200000.nc\n",
      "2025-05-08 10:17:01,397 - pyflextrkr.gettracks - INFO - track_20200202_210000.nc\n",
      "2025-05-08 10:17:01,925 - pyflextrkr.gettracks - INFO - track_20200202_220000.nc\n",
      "2025-05-08 10:17:02,433 - pyflextrkr.gettracks - INFO - track_20200202_230000.nc\n",
      "2025-05-08 10:17:02,995 - pyflextrkr.gettracks - INFO - track_20200203_000000.nc\n",
      "2025-05-08 10:17:03,689 - pyflextrkr.gettracks - INFO - /pscratch/sd/w/wcmca1/scream-cess-healpix/mcs_tracking_hp7//stats/tracknumbers_20200201.0000_20200203.0000.nc\n",
      "2025-05-08 10:17:03,690 - pyflextrkr.gettracks - INFO - Get track numbers done.\n"
     ]
    },
    {
     "name": "stdout",
     "output_type": "stream",
     "text": [
      "Completed tracking features. Output: tracknumbers_20200201.0000_20200203.0000.nc\n"
     ]
    }
   ],
   "source": [
    "# Step 3 - Track features through the entire dataset\n",
    "if config.get('run_gettracks', False):\n",
    "    print(\"Running Step 3: Track features through the entire dataset...\")\n",
    "    tracknumbers_filename = gettracknumbers(config)\n",
    "    print(f\"Completed tracking features. Output: {os.path.basename(tracknumbers_filename)}\")\n",
    "else:\n",
    "    print(\"Skipping Step 3: Track features (disabled in configuration)\")"
   ]
  },
  {
   "cell_type": "markdown",
   "id": "8f9a093b",
   "metadata": {},
   "source": [
    "### Step 4: Calculate Track Statistics\n",
    "\n",
    "This step computes statistical properties for each tracked feature. The `trackstats_driver` function calculates metrics such as area, duration, and intensity."
   ]
  },
  {
   "cell_type": "code",
   "execution_count": 8,
   "id": "1a17982c",
   "metadata": {},
   "outputs": [
    {
     "name": "stderr",
     "output_type": "stream",
     "text": [
      "2025-05-08 10:17:03,752 - pyflextrkr.trackstats_driver - INFO - Calculating track statistics\n",
      "2025-05-08 10:17:03,789 - pyflextrkr.trackstats_driver - INFO - Total number of files to process: 49\n"
     ]
    },
    {
     "name": "stdout",
     "output_type": "stream",
     "text": [
      "Running Step 4: Calculate track statistics...\n"
     ]
    },
    {
     "name": "stderr",
     "output_type": "stream",
     "text": [
      "2025-05-08 10:17:04,230 - pyflextrkr.trackstats_func - INFO - cloudid_20200202_060000.nc\n",
      "2025-05-08 10:17:04,231 - pyflextrkr.trackstats_func - INFO - cloudid_20200202_150000.nc\n",
      "2025-05-08 10:17:04,232 - pyflextrkr.trackstats_func - INFO - cloudid_20200201_050000.nc\n",
      "2025-05-08 10:17:04,232 - pyflextrkr.trackstats_func - INFO - cloudid_20200202_010000.nc\n",
      "2025-05-08 10:17:04,234 - pyflextrkr.trackstats_func - INFO - cloudid_20200202_120000.nc\n",
      "2025-05-08 10:17:04,234 - pyflextrkr.trackstats_func - INFO - cloudid_20200201_120000.nc\n",
      "2025-05-08 10:17:04,235 - pyflextrkr.trackstats_func - INFO - cloudid_20200203_000000.nc\n",
      "2025-05-08 10:17:04,235 - pyflextrkr.trackstats_func - INFO - cloudid_20200202_090000.nc\n",
      "2025-05-08 10:17:04,235 - pyflextrkr.trackstats_func - INFO - cloudid_20200201_090000.nc\n",
      "2025-05-08 10:17:04,237 - pyflextrkr.trackstats_func - INFO - cloudid_20200202_140000.nc\n",
      "2025-05-08 10:17:04,237 - pyflextrkr.trackstats_func - INFO - cloudid_20200202_100000.nc\n",
      "2025-05-08 10:17:04,238 - pyflextrkr.trackstats_func - INFO - cloudid_20200202_160000.nc\n",
      "2025-05-08 10:17:04,239 - pyflextrkr.trackstats_func - INFO - cloudid_20200201_000000.nc\n",
      "2025-05-08 10:17:04,240 - pyflextrkr.trackstats_func - INFO - cloudid_20200202_190000.nc\n",
      "2025-05-08 10:17:04,242 - pyflextrkr.trackstats_func - INFO - cloudid_20200201_170000.nc\n",
      "2025-05-08 10:17:04,243 - pyflextrkr.trackstats_func - INFO - cloudid_20200202_200000.nc\n",
      "2025-05-08 10:17:04,242 - pyflextrkr.trackstats_func - INFO - cloudid_20200202_050000.nc\n",
      "2025-05-08 10:17:04,243 - pyflextrkr.trackstats_func - INFO - cloudid_20200201_110000.nc\n",
      "2025-05-08 10:17:04,245 - pyflextrkr.trackstats_func - INFO - cloudid_20200202_110000.nc\n",
      "2025-05-08 10:17:04,245 - pyflextrkr.trackstats_func - INFO - cloudid_20200201_210000.nc\n",
      "2025-05-08 10:17:04,246 - pyflextrkr.trackstats_func - INFO - cloudid_20200201_140000.nc\n",
      "2025-05-08 10:17:04,247 - pyflextrkr.trackstats_func - INFO - cloudid_20200202_180000.nc\n",
      "2025-05-08 10:17:04,248 - pyflextrkr.trackstats_func - INFO - cloudid_20200201_080000.nc\n",
      "2025-05-08 10:17:04,249 - pyflextrkr.trackstats_func - INFO - cloudid_20200202_040000.nc\n",
      "2025-05-08 10:17:04,250 - pyflextrkr.trackstats_func - INFO - cloudid_20200202_130000.nc\n",
      "2025-05-08 10:17:04,251 - pyflextrkr.trackstats_func - INFO - cloudid_20200202_170000.nc\n",
      "2025-05-08 10:17:04,252 - pyflextrkr.trackstats_func - INFO - cloudid_20200201_010000.nc\n",
      "2025-05-08 10:17:04,252 - pyflextrkr.trackstats_func - INFO - cloudid_20200201_220000.nc\n",
      "2025-05-08 10:17:04,252 - pyflextrkr.trackstats_func - INFO - cloudid_20200201_230000.nc\n",
      "2025-05-08 10:17:04,254 - pyflextrkr.trackstats_func - INFO - cloudid_20200201_190000.nc\n",
      "2025-05-08 10:17:04,254 - pyflextrkr.trackstats_func - INFO - cloudid_20200201_180000.nc\n",
      "2025-05-08 10:17:04,255 - pyflextrkr.trackstats_func - INFO - cloudid_20200201_060000.nc\n",
      "2025-05-08 10:17:04,256 - pyflextrkr.trackstats_func - INFO - cloudid_20200201_100000.nc\n",
      "2025-05-08 10:17:04,259 - pyflextrkr.trackstats_func - INFO - cloudid_20200201_040000.nc\n",
      "2025-05-08 10:17:04,471 - pyflextrkr.trackstats_func - INFO - cloudid_20200202_030000.nc\n",
      "2025-05-08 10:17:04,509 - pyflextrkr.trackstats_func - INFO - cloudid_20200201_130000.nc\n",
      "2025-05-08 10:17:04,534 - pyflextrkr.trackstats_func - INFO - cloudid_20200201_200000.nc\n",
      "2025-05-08 10:17:04,547 - pyflextrkr.trackstats_func - INFO - cloudid_20200201_020000.nc\n",
      "2025-05-08 10:17:04,547 - pyflextrkr.trackstats_func - INFO - cloudid_20200202_220000.nc\n",
      "2025-05-08 10:17:04,554 - pyflextrkr.trackstats_func - INFO - cloudid_20200202_020000.nc\n",
      "2025-05-08 10:17:04,555 - pyflextrkr.trackstats_func - INFO - cloudid_20200201_030000.nc\n",
      "2025-05-08 10:17:04,560 - pyflextrkr.trackstats_func - INFO - cloudid_20200201_070000.nc\n",
      "2025-05-08 10:17:04,572 - pyflextrkr.trackstats_func - INFO - cloudid_20200202_080000.nc\n",
      "2025-05-08 10:17:04,579 - pyflextrkr.trackstats_func - INFO - cloudid_20200202_000000.nc\n",
      "2025-05-08 10:17:04,619 - pyflextrkr.trackstats_func - INFO - cloudid_20200201_150000.nc\n",
      "2025-05-08 10:17:04,623 - pyflextrkr.trackstats_func - INFO - cloudid_20200202_210000.nc\n",
      "2025-05-08 10:17:04,634 - pyflextrkr.trackstats_func - INFO - cloudid_20200202_070000.nc\n",
      "2025-05-08 10:17:04,664 - pyflextrkr.trackstats_func - INFO - cloudid_20200201_160000.nc\n",
      "2025-05-08 10:17:04,686 - pyflextrkr.trackstats_func - INFO - cloudid_20200202_230000.nc\n",
      "2025-05-08 10:17:15,038 - pyflextrkr.trackstats_driver - INFO - /pscratch/sd/w/wcmca1/scream-cess-healpix/mcs_tracking_hp7//stats/trackstats_20200201.0000_20200203.0000.nc\n",
      "2025-05-08 10:17:15,213 - pyflextrkr.trackstats_driver - INFO - /pscratch/sd/w/wcmca1/scream-cess-healpix/mcs_tracking_hp7//stats/trackstats_sparse_20200201.0000_20200203.0000.nc\n"
     ]
    },
    {
     "name": "stdout",
     "output_type": "stream",
     "text": [
      "Completed calculating track statistics. Output: trackstats_20200201.0000_20200203.0000.nc\n"
     ]
    }
   ],
   "source": [
    "# Step 4 - Calculate track statistics\n",
    "if config.get('run_trackstats', False):\n",
    "    print(\"Running Step 4: Calculate track statistics...\")\n",
    "    trackstats_filename = trackstats_driver(config)\n",
    "    print(f\"Completed calculating track statistics. Output: {os.path.basename(trackstats_filename)}\")\n",
    "else:\n",
    "    print(\"Skipping Step 4: Calculate track statistics (disabled in configuration)\")"
   ]
  },
  {
   "cell_type": "markdown",
   "id": "a8ff88c9",
   "metadata": {},
   "source": [
    "### Step 5: Identify MCS using Tb\n",
    "\n",
    "This step identifies Mesoscale Convective Systems based on brightness temperature criteria. The `identifymcs_tb` function selects tracks that meet specific cold cloud area and duration thresholds."
   ]
  },
  {
   "cell_type": "code",
   "execution_count": 9,
   "id": "336d4b9b",
   "metadata": {},
   "outputs": [
    {
     "name": "stderr",
     "output_type": "stream",
     "text": [
      "2025-05-08 10:17:15,271 - pyflextrkr.identifymcs - INFO - Identifying MCS based on Tb statistics\n",
      "2025-05-08 10:17:15,314 - pyflextrkr.identifymcs - INFO - Number of tracks to process: 11150\n"
     ]
    },
    {
     "name": "stdout",
     "output_type": "stream",
     "text": [
      "Running Step 5: Identify MCS using Tb...\n"
     ]
    },
    {
     "name": "stderr",
     "output_type": "stream",
     "text": [
      "2025-05-08 10:17:16,698 - pyflextrkr.identifymcs - INFO - Number of Tb defined MCS: 232\n",
      "2025-05-08 10:17:18,956 - pyflextrkr.identifymcs - INFO - /pscratch/sd/w/wcmca1/scream-cess-healpix/mcs_tracking_hp7//stats/mcs_tracks_20200201.0000_20200203.0000.nc\n"
     ]
    },
    {
     "name": "stdout",
     "output_type": "stream",
     "text": [
      "Completed identifying MCS using Tb. Output: mcs_tracks_20200201.0000_20200203.0000.nc\n"
     ]
    }
   ],
   "source": [
    "# Step 5 - Identify MCS using Tb\n",
    "if config.get('run_identifymcs', False):\n",
    "    print(\"Running Step 5: Identify MCS using Tb...\")\n",
    "    mcsstats_filename = identifymcs_tb(config)\n",
    "    print(f\"Completed identifying MCS using Tb. Output: {os.path.basename(mcsstats_filename)}\")\n",
    "else:\n",
    "    print(\"Skipping Step 5: Identify MCS using Tb (disabled in configuration)\")"
   ]
  },
  {
   "cell_type": "markdown",
   "id": "510e96a4",
   "metadata": {},
   "source": [
    "### Step 6: Match PF to MCS\n",
    "\n",
    "This step matches precipitation features to the MCS tracks identified in the previous step. The `match_tbpf_tracks` function associates precipitation data with cold cloud systems."
   ]
  },
  {
   "cell_type": "code",
   "execution_count": 10,
   "id": "5e27ad74",
   "metadata": {},
   "outputs": [
    {
     "name": "stderr",
     "output_type": "stream",
     "text": [
      "2025-05-08 10:17:19,021 - pyflextrkr.matchtbpf_driver - INFO - Matching Tb tracked MCS with precipitation to calculate PF statistics\n"
     ]
    },
    {
     "name": "stdout",
     "output_type": "stream",
     "text": [
      "Running Step 6: Match PF to MCS...\n"
     ]
    },
    {
     "name": "stderr",
     "output_type": "stream",
     "text": [
      "2025-05-08 10:17:19,413 - pyflextrkr.matchtbpf_func - INFO - /pscratch/sd/w/wcmca1/scream-cess-healpix/mcs_tracking_hp7//tracking/cloudid_20200202_020000.nc\n",
      "2025-05-08 10:17:19,414 - pyflextrkr.matchtbpf_func - INFO - /pscratch/sd/w/wcmca1/scream-cess-healpix/mcs_tracking_hp7//tracking/cloudid_20200201_130000.nc\n",
      "2025-05-08 10:17:19,415 - pyflextrkr.matchtbpf_func - INFO - /pscratch/sd/w/wcmca1/scream-cess-healpix/mcs_tracking_hp7//tracking/cloudid_20200201_110000.nc\n",
      "2025-05-08 10:17:19,425 - pyflextrkr.matchtbpf_func - INFO - /pscratch/sd/w/wcmca1/scream-cess-healpix/mcs_tracking_hp7//tracking/cloudid_20200201_000000.nc\n",
      "2025-05-08 10:17:19,425 - pyflextrkr.matchtbpf_func - INFO - /pscratch/sd/w/wcmca1/scream-cess-healpix/mcs_tracking_hp7//tracking/cloudid_20200202_190000.nc\n",
      "2025-05-08 10:17:19,425 - pyflextrkr.matchtbpf_func - INFO - /pscratch/sd/w/wcmca1/scream-cess-healpix/mcs_tracking_hp7//tracking/cloudid_20200201_210000.nc\n",
      "2025-05-08 10:17:19,439 - pyflextrkr.matchtbpf_func - INFO - /pscratch/sd/w/wcmca1/scream-cess-healpix/mcs_tracking_hp7//tracking/cloudid_20200201_010000.nc\n",
      "2025-05-08 10:17:19,444 - pyflextrkr.matchtbpf_func - INFO - /pscratch/sd/w/wcmca1/scream-cess-healpix/mcs_tracking_hp7//tracking/cloudid_20200202_220000.nc\n",
      "2025-05-08 10:17:19,447 - pyflextrkr.matchtbpf_func - INFO - /pscratch/sd/w/wcmca1/scream-cess-healpix/mcs_tracking_hp7//tracking/cloudid_20200202_050000.nc\n",
      "2025-05-08 10:17:19,447 - pyflextrkr.matchtbpf_func - INFO - /pscratch/sd/w/wcmca1/scream-cess-healpix/mcs_tracking_hp7//tracking/cloudid_20200201_040000.nc\n",
      "2025-05-08 10:17:19,447 - pyflextrkr.matchtbpf_func - INFO - /pscratch/sd/w/wcmca1/scream-cess-healpix/mcs_tracking_hp7//tracking/cloudid_20200202_110000.nc\n",
      "2025-05-08 10:17:19,448 - pyflextrkr.matchtbpf_func - INFO - /pscratch/sd/w/wcmca1/scream-cess-healpix/mcs_tracking_hp7//tracking/cloudid_20200202_160000.nc\n",
      "2025-05-08 10:17:19,449 - pyflextrkr.matchtbpf_func - INFO - /pscratch/sd/w/wcmca1/scream-cess-healpix/mcs_tracking_hp7//tracking/cloudid_20200203_000000.nc\n",
      "2025-05-08 10:17:19,450 - pyflextrkr.matchtbpf_func - INFO - /pscratch/sd/w/wcmca1/scream-cess-healpix/mcs_tracking_hp7//tracking/cloudid_20200201_060000.nc\n",
      "2025-05-08 10:17:19,450 - pyflextrkr.matchtbpf_func - INFO - /pscratch/sd/w/wcmca1/scream-cess-healpix/mcs_tracking_hp7//tracking/cloudid_20200202_150000.nc\n",
      "2025-05-08 10:17:19,452 - pyflextrkr.matchtbpf_func - INFO - /pscratch/sd/w/wcmca1/scream-cess-healpix/mcs_tracking_hp7//tracking/cloudid_20200201_180000.nc\n",
      "2025-05-08 10:17:19,452 - pyflextrkr.matchtbpf_func - INFO - /pscratch/sd/w/wcmca1/scream-cess-healpix/mcs_tracking_hp7//tracking/cloudid_20200202_040000.nc\n",
      "2025-05-08 10:17:19,453 - pyflextrkr.matchtbpf_func - INFO - /pscratch/sd/w/wcmca1/scream-cess-healpix/mcs_tracking_hp7//tracking/cloudid_20200201_140000.nc\n",
      "2025-05-08 10:17:19,455 - pyflextrkr.matchtbpf_func - INFO - /pscratch/sd/w/wcmca1/scream-cess-healpix/mcs_tracking_hp7//tracking/cloudid_20200201_100000.nc\n",
      "2025-05-08 10:17:19,455 - pyflextrkr.matchtbpf_func - INFO - /pscratch/sd/w/wcmca1/scream-cess-healpix/mcs_tracking_hp7//tracking/cloudid_20200201_050000.nc\n",
      "2025-05-08 10:17:19,456 - pyflextrkr.matchtbpf_func - INFO - /pscratch/sd/w/wcmca1/scream-cess-healpix/mcs_tracking_hp7//tracking/cloudid_20200201_120000.nc\n",
      "2025-05-08 10:17:19,456 - pyflextrkr.matchtbpf_func - INFO - /pscratch/sd/w/wcmca1/scream-cess-healpix/mcs_tracking_hp7//tracking/cloudid_20200202_080000.nc\n",
      "2025-05-08 10:17:19,457 - pyflextrkr.matchtbpf_func - INFO - /pscratch/sd/w/wcmca1/scream-cess-healpix/mcs_tracking_hp7//tracking/cloudid_20200202_120000.nc\n",
      "2025-05-08 10:17:19,457 - pyflextrkr.matchtbpf_func - INFO - /pscratch/sd/w/wcmca1/scream-cess-healpix/mcs_tracking_hp7//tracking/cloudid_20200202_000000.nc\n",
      "2025-05-08 10:17:19,458 - pyflextrkr.matchtbpf_func - INFO - /pscratch/sd/w/wcmca1/scream-cess-healpix/mcs_tracking_hp7//tracking/cloudid_20200201_160000.nc\n",
      "2025-05-08 10:17:19,458 - pyflextrkr.matchtbpf_func - INFO - /pscratch/sd/w/wcmca1/scream-cess-healpix/mcs_tracking_hp7//tracking/cloudid_20200202_070000.nc\n",
      "2025-05-08 10:17:19,458 - pyflextrkr.matchtbpf_func - INFO - /pscratch/sd/w/wcmca1/scream-cess-healpix/mcs_tracking_hp7//tracking/cloudid_20200201_150000.nc\n",
      "2025-05-08 10:17:19,459 - pyflextrkr.matchtbpf_func - INFO - /pscratch/sd/w/wcmca1/scream-cess-healpix/mcs_tracking_hp7//tracking/cloudid_20200202_130000.nc\n",
      "2025-05-08 10:17:19,459 - pyflextrkr.matchtbpf_func - INFO - /pscratch/sd/w/wcmca1/scream-cess-healpix/mcs_tracking_hp7//tracking/cloudid_20200202_140000.nc\n",
      "2025-05-08 10:17:19,460 - pyflextrkr.matchtbpf_func - INFO - /pscratch/sd/w/wcmca1/scream-cess-healpix/mcs_tracking_hp7//tracking/cloudid_20200201_230000.nc\n",
      "2025-05-08 10:17:19,460 - pyflextrkr.matchtbpf_func - INFO - /pscratch/sd/w/wcmca1/scream-cess-healpix/mcs_tracking_hp7//tracking/cloudid_20200202_100000.nc\n",
      "2025-05-08 10:17:19,460 - pyflextrkr.matchtbpf_func - INFO - /pscratch/sd/w/wcmca1/scream-cess-healpix/mcs_tracking_hp7//tracking/cloudid_20200202_170000.nc\n",
      "2025-05-08 10:17:19,461 - pyflextrkr.matchtbpf_func - INFO - /pscratch/sd/w/wcmca1/scream-cess-healpix/mcs_tracking_hp7//tracking/cloudid_20200201_220000.nc\n",
      "2025-05-08 10:17:19,462 - pyflextrkr.matchtbpf_func - INFO - /pscratch/sd/w/wcmca1/scream-cess-healpix/mcs_tracking_hp7//tracking/cloudid_20200202_230000.nc\n",
      "2025-05-08 10:17:19,463 - pyflextrkr.matchtbpf_func - INFO - /pscratch/sd/w/wcmca1/scream-cess-healpix/mcs_tracking_hp7//tracking/cloudid_20200202_210000.nc\n",
      "2025-05-08 10:17:19,463 - pyflextrkr.matchtbpf_func - INFO - /pscratch/sd/w/wcmca1/scream-cess-healpix/mcs_tracking_hp7//tracking/cloudid_20200201_070000.nc\n",
      "2025-05-08 10:17:19,620 - pyflextrkr.matchtbpf_func - INFO - /pscratch/sd/w/wcmca1/scream-cess-healpix/mcs_tracking_hp7//tracking/cloudid_20200202_060000.nc\n",
      "2025-05-08 10:17:19,660 - pyflextrkr.matchtbpf_func - INFO - /pscratch/sd/w/wcmca1/scream-cess-healpix/mcs_tracking_hp7//tracking/cloudid_20200202_200000.nc\n",
      "2025-05-08 10:17:19,666 - pyflextrkr.matchtbpf_func - INFO - /pscratch/sd/w/wcmca1/scream-cess-healpix/mcs_tracking_hp7//tracking/cloudid_20200202_180000.nc\n",
      "2025-05-08 10:17:19,682 - pyflextrkr.matchtbpf_func - INFO - /pscratch/sd/w/wcmca1/scream-cess-healpix/mcs_tracking_hp7//tracking/cloudid_20200201_190000.nc\n",
      "2025-05-08 10:17:19,683 - pyflextrkr.matchtbpf_func - INFO - /pscratch/sd/w/wcmca1/scream-cess-healpix/mcs_tracking_hp7//tracking/cloudid_20200202_010000.nc\n",
      "2025-05-08 10:17:19,684 - pyflextrkr.matchtbpf_func - INFO - /pscratch/sd/w/wcmca1/scream-cess-healpix/mcs_tracking_hp7//tracking/cloudid_20200201_030000.nc\n",
      "2025-05-08 10:17:19,685 - pyflextrkr.matchtbpf_func - INFO - /pscratch/sd/w/wcmca1/scream-cess-healpix/mcs_tracking_hp7//tracking/cloudid_20200201_200000.nc\n",
      "2025-05-08 10:17:19,693 - pyflextrkr.matchtbpf_func - INFO - /pscratch/sd/w/wcmca1/scream-cess-healpix/mcs_tracking_hp7//tracking/cloudid_20200201_080000.nc\n",
      "2025-05-08 10:17:19,694 - pyflextrkr.matchtbpf_func - INFO - /pscratch/sd/w/wcmca1/scream-cess-healpix/mcs_tracking_hp7//tracking/cloudid_20200201_170000.nc\n",
      "2025-05-08 10:17:19,697 - pyflextrkr.matchtbpf_func - INFO - /pscratch/sd/w/wcmca1/scream-cess-healpix/mcs_tracking_hp7//tracking/cloudid_20200201_090000.nc\n",
      "2025-05-08 10:17:19,704 - pyflextrkr.matchtbpf_func - INFO - /pscratch/sd/w/wcmca1/scream-cess-healpix/mcs_tracking_hp7//tracking/cloudid_20200201_020000.nc\n",
      "2025-05-08 10:17:19,900 - pyflextrkr.matchtbpf_func - INFO - /pscratch/sd/w/wcmca1/scream-cess-healpix/mcs_tracking_hp7//tracking/cloudid_20200202_090000.nc\n",
      "2025-05-08 10:17:19,905 - pyflextrkr.matchtbpf_func - INFO - /pscratch/sd/w/wcmca1/scream-cess-healpix/mcs_tracking_hp7//tracking/cloudid_20200202_030000.nc\n",
      "2025-05-08 10:17:22,045 - pyflextrkr.matchtbpf_driver - INFO - /pscratch/sd/w/wcmca1/scream-cess-healpix/mcs_tracking_hp7//stats/mcs_tracks_pf_20200201.0000_20200203.0000.nc\n"
     ]
    },
    {
     "name": "stdout",
     "output_type": "stream",
     "text": [
      "Completed matching PF to MCS. Output: mcs_tracks_pf_20200201.0000_20200203.0000.nc\n"
     ]
    }
   ],
   "source": [
    "# Step 6 - Match PF to MCS\n",
    "if config.get('run_matchpf', False):\n",
    "    print(\"Running Step 6: Match PF to MCS...\")\n",
    "    pfstats_filename = match_tbpf_tracks(config)\n",
    "    print(f\"Completed matching PF to MCS. Output: {os.path.basename(pfstats_filename)}\")\n",
    "else:\n",
    "    print(\"Skipping Step 6: Match PF to MCS (disabled in configuration)\")"
   ]
  },
  {
   "cell_type": "markdown",
   "id": "044d1c2a",
   "metadata": {},
   "source": [
    "### Step 7: Identify Robust MCS\n",
    "\n",
    "This step defines robust MCS using both brightness temperature and precipitation feature criteria. The `define_robust_mcs_pf` function selects MCS tracks that meet both sets of criteria."
   ]
  },
  {
   "cell_type": "code",
   "execution_count": 11,
   "id": "3f1f5d2b",
   "metadata": {},
   "outputs": [
    {
     "name": "stderr",
     "output_type": "stream",
     "text": [
      "2025-05-08 10:17:22,109 - pyflextrkr.robustmcspf_saag - INFO - Identifying robust MCS based on PF statistics\n",
      "2025-05-08 10:17:22,173 - pyflextrkr.robustmcspf_saag - INFO - Number of robust MCS: 165\n"
     ]
    },
    {
     "name": "stdout",
     "output_type": "stream",
     "text": [
      "Running Step 7: Identify robust MCS...\n"
     ]
    },
    {
     "name": "stderr",
     "output_type": "stream",
     "text": [
      "2025-05-08 10:17:24,564 - pyflextrkr.robustmcspf_saag - INFO - /pscratch/sd/w/wcmca1/scream-cess-healpix/mcs_tracking_hp7//stats/mcs_tracks_robust_20200201.0000_20200203.0000.nc\n"
     ]
    },
    {
     "name": "stdout",
     "output_type": "stream",
     "text": [
      "Completed identifying robust MCS. Output: mcs_tracks_robust_20200201.0000_20200203.0000.nc\n"
     ]
    }
   ],
   "source": [
    "# Step 7 - Identify robust MCS\n",
    "if config.get('run_robustmcs', False):\n",
    "    print(\"Running Step 7: Identify robust MCS...\")\n",
    "    robustmcsstats_filename = define_robust_mcs_pf(config)\n",
    "    print(f\"Completed identifying robust MCS. Output: {os.path.basename(robustmcsstats_filename)}\")\n",
    "else:\n",
    "    print(\"Skipping Step 7: Identify robust MCS (disabled in configuration)\")"
   ]
  },
  {
   "cell_type": "markdown",
   "id": "e321c3b7",
   "metadata": {},
   "source": [
    "### Step 8: Map Tracking to Pixel Files\n",
    "\n",
    "This step maps tracking results to pixel-level files. The `mapfeature_driver` function assigns track identifiers to individual pixels, with options for different track types."
   ]
  },
  {
   "cell_type": "code",
   "execution_count": 12,
   "id": "fb3be528",
   "metadata": {},
   "outputs": [
    {
     "name": "stderr",
     "output_type": "stream",
     "text": [
      "2025-05-08 10:17:24,624 - pyflextrkr.mapfeature_driver - INFO - Mapping tracked features to pixel-level files\n"
     ]
    },
    {
     "name": "stdout",
     "output_type": "stream",
     "text": [
      "Running Step 8: Map tracking to pixel files...\n"
     ]
    },
    {
     "name": "stderr",
     "output_type": "stream",
     "text": [
      "2025-05-08 10:17:25,073 - pyflextrkr.mapfeature_driver - INFO - Total number of files to process: 49\n",
      "2025-05-08 10:17:25,829 - pyflextrkr.mapfeature_func - INFO - /pscratch/sd/w/wcmca1/scream-cess-healpix/mcs_tracking_hp7//mcstracking/20200201.0000_20200203.0000/mcstrack_20200201_030000.nc\n",
      "2025-05-08 10:17:25,833 - pyflextrkr.mapfeature_func - INFO - /pscratch/sd/w/wcmca1/scream-cess-healpix/mcs_tracking_hp7//mcstracking/20200201.0000_20200203.0000/mcstrack_20200201_010000.nc\n",
      "2025-05-08 10:17:25,864 - pyflextrkr.mapfeature_func - INFO - /pscratch/sd/w/wcmca1/scream-cess-healpix/mcs_tracking_hp7//mcstracking/20200201.0000_20200203.0000/mcstrack_20200202_000000.nc\n",
      "2025-05-08 10:17:25,865 - pyflextrkr.mapfeature_func - INFO - /pscratch/sd/w/wcmca1/scream-cess-healpix/mcs_tracking_hp7//mcstracking/20200201.0000_20200203.0000/mcstrack_20200203_000000.nc\n",
      "2025-05-08 10:17:25,865 - pyflextrkr.mapfeature_func - INFO - /pscratch/sd/w/wcmca1/scream-cess-healpix/mcs_tracking_hp7//mcstracking/20200201.0000_20200203.0000/mcstrack_20200201_090000.nc\n",
      "2025-05-08 10:17:25,873 - pyflextrkr.mapfeature_func - INFO - /pscratch/sd/w/wcmca1/scream-cess-healpix/mcs_tracking_hp7//mcstracking/20200201.0000_20200203.0000/mcstrack_20200201_000000.nc\n",
      "2025-05-08 10:17:25,873 - pyflextrkr.mapfeature_func - INFO - /pscratch/sd/w/wcmca1/scream-cess-healpix/mcs_tracking_hp7//mcstracking/20200201.0000_20200203.0000/mcstrack_20200202_120000.nc\n",
      "2025-05-08 10:17:25,881 - pyflextrkr.mapfeature_func - INFO - /pscratch/sd/w/wcmca1/scream-cess-healpix/mcs_tracking_hp7//mcstracking/20200201.0000_20200203.0000/mcstrack_20200202_150000.nc\n",
      "2025-05-08 10:17:25,918 - pyflextrkr.mapfeature_func - INFO - /pscratch/sd/w/wcmca1/scream-cess-healpix/mcs_tracking_hp7//mcstracking/20200201.0000_20200203.0000/mcstrack_20200202_110000.nc\n",
      "2025-05-08 10:17:25,918 - pyflextrkr.mapfeature_func - INFO - /pscratch/sd/w/wcmca1/scream-cess-healpix/mcs_tracking_hp7//mcstracking/20200201.0000_20200203.0000/mcstrack_20200201_040000.nc\n",
      "2025-05-08 10:17:25,919 - pyflextrkr.mapfeature_func - INFO - /pscratch/sd/w/wcmca1/scream-cess-healpix/mcs_tracking_hp7//mcstracking/20200201.0000_20200203.0000/mcstrack_20200202_030000.nc\n",
      "2025-05-08 10:17:25,920 - pyflextrkr.mapfeature_func - INFO - /pscratch/sd/w/wcmca1/scream-cess-healpix/mcs_tracking_hp7//mcstracking/20200201.0000_20200203.0000/mcstrack_20200202_180000.nc\n",
      "2025-05-08 10:17:25,921 - pyflextrkr.mapfeature_func - INFO - /pscratch/sd/w/wcmca1/scream-cess-healpix/mcs_tracking_hp7//mcstracking/20200201.0000_20200203.0000/mcstrack_20200201_110000.nc\n",
      "2025-05-08 10:17:25,921 - pyflextrkr.mapfeature_func - INFO - /pscratch/sd/w/wcmca1/scream-cess-healpix/mcs_tracking_hp7//mcstracking/20200201.0000_20200203.0000/mcstrack_20200202_200000.nc\n",
      "2025-05-08 10:17:25,922 - pyflextrkr.mapfeature_func - INFO - /pscratch/sd/w/wcmca1/scream-cess-healpix/mcs_tracking_hp7//mcstracking/20200201.0000_20200203.0000/mcstrack_20200202_210000.nc\n",
      "2025-05-08 10:17:25,922 - pyflextrkr.mapfeature_func - INFO - /pscratch/sd/w/wcmca1/scream-cess-healpix/mcs_tracking_hp7//mcstracking/20200201.0000_20200203.0000/mcstrack_20200202_190000.nc\n",
      "2025-05-08 10:17:25,926 - pyflextrkr.mapfeature_func - INFO - /pscratch/sd/w/wcmca1/scream-cess-healpix/mcs_tracking_hp7//mcstracking/20200201.0000_20200203.0000/mcstrack_20200202_230000.nc\n",
      "2025-05-08 10:17:25,928 - pyflextrkr.mapfeature_func - INFO - /pscratch/sd/w/wcmca1/scream-cess-healpix/mcs_tracking_hp7//mcstracking/20200201.0000_20200203.0000/mcstrack_20200201_140000.nc\n",
      "2025-05-08 10:17:25,930 - pyflextrkr.mapfeature_func - INFO - /pscratch/sd/w/wcmca1/scream-cess-healpix/mcs_tracking_hp7//mcstracking/20200201.0000_20200203.0000/mcstrack_20200202_100000.nc\n",
      "2025-05-08 10:17:25,930 - pyflextrkr.mapfeature_func - INFO - /pscratch/sd/w/wcmca1/scream-cess-healpix/mcs_tracking_hp7//mcstracking/20200201.0000_20200203.0000/mcstrack_20200201_120000.nc\n",
      "2025-05-08 10:17:25,931 - pyflextrkr.mapfeature_func - INFO - /pscratch/sd/w/wcmca1/scream-cess-healpix/mcs_tracking_hp7//mcstracking/20200201.0000_20200203.0000/mcstrack_20200201_080000.nc\n",
      "2025-05-08 10:17:25,931 - pyflextrkr.mapfeature_func - INFO - /pscratch/sd/w/wcmca1/scream-cess-healpix/mcs_tracking_hp7//mcstracking/20200201.0000_20200203.0000/mcstrack_20200202_010000.nc\n",
      "2025-05-08 10:17:25,931 - pyflextrkr.mapfeature_func - INFO - /pscratch/sd/w/wcmca1/scream-cess-healpix/mcs_tracking_hp7//mcstracking/20200201.0000_20200203.0000/mcstrack_20200201_220000.nc\n",
      "2025-05-08 10:17:25,931 - pyflextrkr.mapfeature_func - INFO - /pscratch/sd/w/wcmca1/scream-cess-healpix/mcs_tracking_hp7//mcstracking/20200201.0000_20200203.0000/mcstrack_20200202_060000.nc\n",
      "2025-05-08 10:17:25,932 - pyflextrkr.mapfeature_func - INFO - /pscratch/sd/w/wcmca1/scream-cess-healpix/mcs_tracking_hp7//mcstracking/20200201.0000_20200203.0000/mcstrack_20200201_100000.nc\n",
      "2025-05-08 10:17:25,933 - pyflextrkr.mapfeature_func - INFO - /pscratch/sd/w/wcmca1/scream-cess-healpix/mcs_tracking_hp7//mcstracking/20200201.0000_20200203.0000/mcstrack_20200202_050000.nc\n",
      "2025-05-08 10:17:25,933 - pyflextrkr.mapfeature_func - INFO - /pscratch/sd/w/wcmca1/scream-cess-healpix/mcs_tracking_hp7//mcstracking/20200201.0000_20200203.0000/mcstrack_20200201_170000.nc\n",
      "2025-05-08 10:17:25,934 - pyflextrkr.mapfeature_func - INFO - /pscratch/sd/w/wcmca1/scream-cess-healpix/mcs_tracking_hp7//mcstracking/20200201.0000_20200203.0000/mcstrack_20200201_200000.nc\n",
      "2025-05-08 10:17:25,935 - pyflextrkr.mapfeature_func - INFO - /pscratch/sd/w/wcmca1/scream-cess-healpix/mcs_tracking_hp7//mcstracking/20200201.0000_20200203.0000/mcstrack_20200201_190000.nc\n",
      "2025-05-08 10:17:25,936 - pyflextrkr.mapfeature_func - INFO - /pscratch/sd/w/wcmca1/scream-cess-healpix/mcs_tracking_hp7//mcstracking/20200201.0000_20200203.0000/mcstrack_20200201_160000.nc\n",
      "2025-05-08 10:17:25,938 - pyflextrkr.mapfeature_func - INFO - /pscratch/sd/w/wcmca1/scream-cess-healpix/mcs_tracking_hp7//mcstracking/20200201.0000_20200203.0000/mcstrack_20200201_130000.nc\n",
      "2025-05-08 10:17:25,939 - pyflextrkr.mapfeature_func - INFO - /pscratch/sd/w/wcmca1/scream-cess-healpix/mcs_tracking_hp7//mcstracking/20200201.0000_20200203.0000/mcstrack_20200202_160000.nc\n",
      "2025-05-08 10:17:25,940 - pyflextrkr.mapfeature_func - INFO - /pscratch/sd/w/wcmca1/scream-cess-healpix/mcs_tracking_hp7//mcstracking/20200201.0000_20200203.0000/mcstrack_20200201_070000.nc\n",
      "2025-05-08 10:17:25,940 - pyflextrkr.mapfeature_func - INFO - /pscratch/sd/w/wcmca1/scream-cess-healpix/mcs_tracking_hp7//mcstracking/20200201.0000_20200203.0000/mcstrack_20200202_040000.nc\n",
      "2025-05-08 10:17:25,941 - pyflextrkr.mapfeature_func - INFO - /pscratch/sd/w/wcmca1/scream-cess-healpix/mcs_tracking_hp7//mcstracking/20200201.0000_20200203.0000/mcstrack_20200202_170000.nc\n",
      "2025-05-08 10:17:25,941 - pyflextrkr.mapfeature_func - INFO - /pscratch/sd/w/wcmca1/scream-cess-healpix/mcs_tracking_hp7//mcstracking/20200201.0000_20200203.0000/mcstrack_20200201_050000.nc\n",
      "2025-05-08 10:17:25,942 - pyflextrkr.mapfeature_func - INFO - /pscratch/sd/w/wcmca1/scream-cess-healpix/mcs_tracking_hp7//mcstracking/20200201.0000_20200203.0000/mcstrack_20200202_130000.nc\n",
      "2025-05-08 10:17:25,944 - pyflextrkr.mapfeature_func - INFO - /pscratch/sd/w/wcmca1/scream-cess-healpix/mcs_tracking_hp7//mcstracking/20200201.0000_20200203.0000/mcstrack_20200202_020000.nc\n",
      "2025-05-08 10:17:25,945 - pyflextrkr.mapfeature_func - INFO - /pscratch/sd/w/wcmca1/scream-cess-healpix/mcs_tracking_hp7//mcstracking/20200201.0000_20200203.0000/mcstrack_20200201_020000.nc\n",
      "2025-05-08 10:17:25,946 - pyflextrkr.mapfeature_func - INFO - /pscratch/sd/w/wcmca1/scream-cess-healpix/mcs_tracking_hp7//mcstracking/20200201.0000_20200203.0000/mcstrack_20200202_080000.nc\n",
      "2025-05-08 10:17:25,946 - pyflextrkr.mapfeature_func - INFO - /pscratch/sd/w/wcmca1/scream-cess-healpix/mcs_tracking_hp7//mcstracking/20200201.0000_20200203.0000/mcstrack_20200202_070000.nc\n",
      "2025-05-08 10:17:25,949 - pyflextrkr.mapfeature_func - INFO - /pscratch/sd/w/wcmca1/scream-cess-healpix/mcs_tracking_hp7//mcstracking/20200201.0000_20200203.0000/mcstrack_20200201_210000.nc\n",
      "2025-05-08 10:17:25,949 - pyflextrkr.mapfeature_func - INFO - /pscratch/sd/w/wcmca1/scream-cess-healpix/mcs_tracking_hp7//mcstracking/20200201.0000_20200203.0000/mcstrack_20200202_090000.nc\n",
      "2025-05-08 10:17:25,955 - pyflextrkr.mapfeature_func - INFO - /pscratch/sd/w/wcmca1/scream-cess-healpix/mcs_tracking_hp7//mcstracking/20200201.0000_20200203.0000/mcstrack_20200202_220000.nc\n",
      "2025-05-08 10:17:25,959 - pyflextrkr.mapfeature_func - INFO - /pscratch/sd/w/wcmca1/scream-cess-healpix/mcs_tracking_hp7//mcstracking/20200201.0000_20200203.0000/mcstrack_20200201_060000.nc\n",
      "2025-05-08 10:17:25,960 - pyflextrkr.mapfeature_func - INFO - /pscratch/sd/w/wcmca1/scream-cess-healpix/mcs_tracking_hp7//mcstracking/20200201.0000_20200203.0000/mcstrack_20200201_230000.nc\n",
      "2025-05-08 10:17:25,964 - pyflextrkr.mapfeature_func - INFO - /pscratch/sd/w/wcmca1/scream-cess-healpix/mcs_tracking_hp7//mcstracking/20200201.0000_20200203.0000/mcstrack_20200201_180000.nc\n",
      "2025-05-08 10:17:25,969 - pyflextrkr.mapfeature_func - INFO - /pscratch/sd/w/wcmca1/scream-cess-healpix/mcs_tracking_hp7//mcstracking/20200201.0000_20200203.0000/mcstrack_20200202_140000.nc\n",
      "2025-05-08 10:17:25,982 - pyflextrkr.mapfeature_func - INFO - /pscratch/sd/w/wcmca1/scream-cess-healpix/mcs_tracking_hp7//mcstracking/20200201.0000_20200203.0000/mcstrack_20200201_150000.nc\n",
      "2025-05-08 10:17:26,004 - pyflextrkr.mapfeature_driver - INFO - Done with mapping features to pixel-level files\n"
     ]
    },
    {
     "name": "stdout",
     "output_type": "stream",
     "text": [
      "Completed mapping robust MCS tracks to pixel files.\n"
     ]
    }
   ],
   "source": [
    "# Step 8 - Map tracking to pixel files\n",
    "if config.get('run_mapfeature', False):\n",
    "    print(\"Running Step 8: Map tracking to pixel files...\")\n",
    "    # Map robust MCS track numbers to pixel files (default)\n",
    "    mapfeature_driver(config, trackstats_filebase=mcsrobust_filebase)\n",
    "    print(\"Completed mapping robust MCS tracks to pixel files.\")\n",
    "    \n",
    "    # Uncomment these lines if you want to map other track types\n",
    "    # # Map Tb-only MCS track numbers to pixel files\n",
    "    # mapfeature_driver(config, trackstats_filebase=mcstbstats_filebase, outpath_basename=mcstbmap_outpath)\n",
    "    # print(\"Completed mapping Tb-only MCS tracks to pixel files.\")\n",
    "    #\n",
    "    # # Map all Tb track numbers to pixel level files\n",
    "    # mapfeature_driver(config, trackstats_filebase=trackstats_filebase, outpath_basename=alltrackmap_outpath)\n",
    "    # print(\"Completed mapping all Tb tracks to pixel files.\")\n",
    "else:\n",
    "    print(\"Skipping Step 8: Map tracking to pixel files (disabled in configuration)\")"
   ]
  },
  {
   "cell_type": "markdown",
   "id": "e68b1706",
   "metadata": {},
   "source": [
    "### Step 9: Movement Speed Calculation\n",
    "\n",
    "This step calculates the movement speed of tracked features. The `movement_speed` function computes velocity based on the displacement of feature centroids between timesteps."
   ]
  },
  {
   "cell_type": "code",
   "execution_count": 13,
   "id": "170d88d1",
   "metadata": {},
   "outputs": [
    {
     "name": "stderr",
     "output_type": "stream",
     "text": [
      "2025-05-08 10:17:26,069 - pyflextrkr.movement_speed - INFO - Calculating movement speed using pixel-level tracked feature\n",
      "2025-05-08 10:17:26,073 - pyflextrkr.movement_speed - INFO - Total number of files to process: 49\n"
     ]
    },
    {
     "name": "stdout",
     "output_type": "stream",
     "text": [
      "Running Step 9: Movement speed calculation...\n"
     ]
    },
    {
     "name": "stderr",
     "output_type": "stream",
     "text": [
      "2025-05-08 10:17:29,037 - pyflextrkr.movement_speed - INFO - /pscratch/sd/w/wcmca1/scream-cess-healpix/mcs_tracking_hp7//stats/mcs_tracks_final_20200201.0000_20200203.0000.nc\n"
     ]
    },
    {
     "name": "stdout",
     "output_type": "stream",
     "text": [
      "Completed movement speed calculation. Output: mcs_tracks_final_20200201.0000_20200203.0000.nc\n"
     ]
    }
   ],
   "source": [
    "# Step 9 - Movement speed calculation\n",
    "if config.get('run_speed', False):\n",
    "    print(\"Running Step 9: Movement speed calculation...\")\n",
    "    finalmcsstats_filename = movement_speed(config)\n",
    "    print(f\"Completed movement speed calculation. Output: {os.path.basename(finalmcsstats_filename)}\")\n",
    "else:\n",
    "    print(\"Skipping Step 9: Movement speed calculation (disabled in configuration)\")"
   ]
  },
  {
   "cell_type": "markdown",
   "id": "3a5ea0c4",
   "metadata": {},
   "source": [
    "### Step 10: Remap MCS Mask to HEALPix Grid\n",
    "\n",
    "This step remaps the MCS mask to a HEALPix grid for further analysis. The `remap_to_healpix_zarr` function converts the tracking results to the HEALPix spatial data format."
   ]
  },
  {
   "cell_type": "code",
   "execution_count": 14,
   "id": "6209a50d",
   "metadata": {},
   "outputs": [
    {
     "name": "stderr",
     "output_type": "stream",
     "text": [
      "2025-05-08 10:17:29,099 - pyflextrkr.remap_healpix_zarr - INFO - Starting NetCDF to HEALPix Zarr conversion: ...\n",
      "2025-05-08 10:17:29,111 - pyflextrkr.remap_healpix_zarr - INFO - Using existing Dask client with 64 workers\n",
      "2025-05-08 10:17:29,172 - pyflextrkr.remap_healpix_zarr - INFO - Reading input NetCDF files...\n",
      "2025-05-08 10:17:29,173 - pyflextrkr.remap_healpix_zarr - INFO - Number of input files: 49\n"
     ]
    },
    {
     "name": "stdout",
     "output_type": "stream",
     "text": [
      "Running Step 10: Remap MCS mask to HEALPix grid...\n"
     ]
    },
    {
     "name": "stderr",
     "output_type": "stream",
     "text": [
      "2025-05-08 10:17:29,613 - pyflextrkr.remap_healpix_zarr - INFO - Finished reading input files.\n",
      "2025-05-08 10:17:29,613 - pyflextrkr.remap_healpix_zarr - INFO - Variables to include in output: ['cloudnumber', 'cloudtracknumber', 'lat', 'time', 'lon']\n",
      "2025-05-08 10:17:29,614 - pyflextrkr.remap_healpix_zarr - INFO - Variable renaming map: {'cloudtracknumber': 'mcs_mask', 'cloudnumber': 'ccs_mask'}\n",
      "2025-05-08 10:17:29,614 - pyflextrkr.remap_healpix_zarr - INFO - Renaming variables: {'cloudtracknumber': 'mcs_mask', 'cloudnumber': 'ccs_mask'}\n",
      "2025-05-08 10:17:29,622 - pyflextrkr.remap_healpix_zarr - INFO - Beginning HEALPix remapping...\n",
      "2025-05-08 10:17:29,623 - pyflextrkr.remap_healpix_zarr - INFO - Input data lon coordinate has negative values: True\n",
      "2025-05-08 10:17:29,623 - pyflextrkr.remap_healpix_zarr - INFO - Loading HEALPix catalog: https://digital-earths-global-hackathon.github.io/catalog/catalog.yaml\n",
      "2025-05-08 10:17:29,965 - pyflextrkr.remap_healpix_zarr - INFO - Using HEALPix tolerance of 0.4578° at zoom level 7\n",
      "2025-05-08 10:17:29,966 - pyflextrkr.remap_healpix_zarr - INFO - Applying nearest neighbor remapping to HEALPix grid...\n",
      "2025-05-08 10:17:30,052 - pyflextrkr.remap_healpix_zarr - INFO - Total HEALPix cells: 196608, estimated nside: 128\n",
      "2025-05-08 10:17:30,053 - pyflextrkr.remap_healpix_zarr - INFO - Optimized HEALPix chunk size: 16384\n",
      "2025-05-08 10:17:30,056 - pyflextrkr.remap_healpix_zarr - INFO - HEALPix dataset dimensions: {'time': 49, 'cell': 196608}\n",
      "2025-05-08 10:17:30,056 - pyflextrkr.remap_healpix_zarr - INFO - HEALPix chunking scheme: time=24, cell=16384\n",
      "2025-05-08 10:17:30,057 - pyflextrkr.remap_healpix_zarr - INFO - Starting HEALPix Zarr write to: /pscratch/sd/w/wcmca1/scream-cess-healpix/mcs_tracking_hp7/mcstracking/scream2D_hrly_mcsmask_hp7_v1.zarr\n",
      "2025-05-08 10:17:30,192 - pyflextrkr.remap_healpix_zarr - INFO - Current memory usage across workers (GB): {'tcp://127.0.0.1:32839': 0.284315648, 'tcp://127.0.0.1:32845': 0.286519296, 'tcp://127.0.0.1:32853': 0.252223488, 'tcp://127.0.0.1:33675': 0.28440576, 'tcp://127.0.0.1:33761': 0.254246912, 'tcp://127.0.0.1:34037': 0.27961344, 'tcp://127.0.0.1:34379': 0.279891968, 'tcp://127.0.0.1:34397': 0.277233664, 'tcp://127.0.0.1:34443': 0.282939392, 'tcp://127.0.0.1:34521': 0.283369472, 'tcp://127.0.0.1:34867': 0.286408704, 'tcp://127.0.0.1:34905': 0.243654656, 'tcp://127.0.0.1:34943': 0.281145344, 'tcp://127.0.0.1:35319': 0.277139456, 'tcp://127.0.0.1:35421': 0.284311552, 'tcp://127.0.0.1:35511': 0.277356544, 'tcp://127.0.0.1:35561': 0.25884672, 'tcp://127.0.0.1:35631': 0.279781376, 'tcp://127.0.0.1:36153': 0.254541824, 'tcp://127.0.0.1:37017': 0.283213824, 'tcp://127.0.0.1:37111': 0.283127808, 'tcp://127.0.0.1:37243': 0.257380352, 'tcp://127.0.0.1:38151': 0.284844032, 'tcp://127.0.0.1:38215': 0.27836416, 'tcp://127.0.0.1:38483': 0.277368832, 'tcp://127.0.0.1:38491': 0.278843392, 'tcp://127.0.0.1:38621': 0.286199808, 'tcp://127.0.0.1:38633': 0.255946752, 'tcp://127.0.0.1:38641': 0.251518976, 'tcp://127.0.0.1:38951': 0.28305408, 'tcp://127.0.0.1:39347': 0.249327616, 'tcp://127.0.0.1:39663': 0.284971008, 'tcp://127.0.0.1:39763': 0.242880512, 'tcp://127.0.0.1:40049': 0.279977984, 'tcp://127.0.0.1:40163': 0.283963392, 'tcp://127.0.0.1:40197': 0.218824704, 'tcp://127.0.0.1:40697': 0.2538496, 'tcp://127.0.0.1:40865': 0.283385856, 'tcp://127.0.0.1:40999': 0.278421504, 'tcp://127.0.0.1:41351': 0.283820032, 'tcp://127.0.0.1:41775': 0.282034176, 'tcp://127.0.0.1:42153': 0.240570368, 'tcp://127.0.0.1:42543': 0.274608128, 'tcp://127.0.0.1:42999': 0.280731648, 'tcp://127.0.0.1:43001': 0.28614656, 'tcp://127.0.0.1:43949': 0.252526592, 'tcp://127.0.0.1:44089': 0.282980352, 'tcp://127.0.0.1:44241': 0.243126272, 'tcp://127.0.0.1:44255': 0.288739328, 'tcp://127.0.0.1:44631': 0.278626304, 'tcp://127.0.0.1:44833': 0.28342272, 'tcp://127.0.0.1:44981': 0.281174016, 'tcp://127.0.0.1:45115': 0.282865664, 'tcp://127.0.0.1:45405': 0.256385024, 'tcp://127.0.0.1:45553': 0.281632768, 'tcp://127.0.0.1:45581': 0.285016064, 'tcp://127.0.0.1:45739': 0.280477696, 'tcp://127.0.0.1:45993': 0.283512832, 'tcp://127.0.0.1:46037': 0.278597632, 'tcp://127.0.0.1:46197': 0.282927104, 'tcp://127.0.0.1:46333': 0.285847552, 'tcp://127.0.0.1:46641': 0.254533632, 'tcp://127.0.0.1:46649': 0.256684032, 'tcp://127.0.0.1:46813': 0.280301568}\n",
      "2025-05-08 10:17:30,203 - pyflextrkr.remap_healpix_zarr - INFO - Writing HEALPix Zarr (this may take a while)...\n",
      "2025-05-08 10:17:31,369 - pyflextrkr.remap_healpix_zarr - INFO - HEALPix Zarr write completed successfully\n",
      "2025-05-08 10:17:31,370 - pyflextrkr.remap_healpix_zarr - INFO - HEALPix conversion complete: /pscratch/sd/w/wcmca1/scream-cess-healpix/mcs_tracking_hp7/mcstracking/scream2D_hrly_mcsmask_hp7_v1.zarr\n",
      "2025-05-08 10:17:31,371 - pyflextrkr.remap_healpix_zarr - INFO - Conversion completed in 00:00:02 (hh:mm:ss).\n"
     ]
    },
    {
     "name": "stdout",
     "output_type": "stream",
     "text": [
      "Completed remapping to HEALPix grid. Output: scream2D_hrly_mcsmask_hp7_v1.zarr\n"
     ]
    }
   ],
   "source": [
    "# Step 10 - Remap MCS mask to HEALPix grid\n",
    "if config.get('run_remap_healpix', False):\n",
    "    print(\"Running Step 10: Remap MCS mask to HEALPix grid...\")\n",
    "    healpix_filename = remap_to_healpix_zarr(config)\n",
    "    print(f\"Completed remapping to HEALPix grid. Output: {os.path.basename(healpix_filename)}\")\n",
    "else:\n",
    "    print(\"Skipping Step 10: Remap MCS mask to HEALPix grid (disabled in configuration)\")"
   ]
  },
  {
   "cell_type": "markdown",
   "id": "cb152cad",
   "metadata": {},
   "source": [
    "## Read HEALPix MCS mask file for visualization"
   ]
  },
  {
   "cell_type": "code",
   "execution_count": 15,
   "id": "5bf03c16",
   "metadata": {},
   "outputs": [
    {
     "name": "stdout",
     "output_type": "stream",
     "text": [
      "Read HEALPix MCS mask file: /pscratch/sd/w/wcmca1/scream-cess-healpix/mcs_tracking_hp7/mcstracking/scream2D_hrly_mcsmask_hp7_v1.zarr\n",
      "CPU times: user 63.9 ms, sys: 15.4 ms, total: 79.3 ms\n",
      "Wall time: 88.8 ms\n"
     ]
    },
    {
     "data": {
      "text/html": [
       "<div><svg style=\"position: absolute; width: 0; height: 0; overflow: hidden\">\n",
       "<defs>\n",
       "<symbol id=\"icon-database\" viewBox=\"0 0 32 32\">\n",
       "<path d=\"M16 0c-8.837 0-16 2.239-16 5v4c0 2.761 7.163 5 16 5s16-2.239 16-5v-4c0-2.761-7.163-5-16-5z\"></path>\n",
       "<path d=\"M16 17c-8.837 0-16-2.239-16-5v6c0 2.761 7.163 5 16 5s16-2.239 16-5v-6c0 2.761-7.163 5-16 5z\"></path>\n",
       "<path d=\"M16 26c-8.837 0-16-2.239-16-5v6c0 2.761 7.163 5 16 5s16-2.239 16-5v-6c0 2.761-7.163 5-16 5z\"></path>\n",
       "</symbol>\n",
       "<symbol id=\"icon-file-text2\" viewBox=\"0 0 32 32\">\n",
       "<path d=\"M28.681 7.159c-0.694-0.947-1.662-2.053-2.724-3.116s-2.169-2.030-3.116-2.724c-1.612-1.182-2.393-1.319-2.841-1.319h-15.5c-1.378 0-2.5 1.121-2.5 2.5v27c0 1.378 1.122 2.5 2.5 2.5h23c1.378 0 2.5-1.122 2.5-2.5v-19.5c0-0.448-0.137-1.23-1.319-2.841zM24.543 5.457c0.959 0.959 1.712 1.825 2.268 2.543h-4.811v-4.811c0.718 0.556 1.584 1.309 2.543 2.268zM28 29.5c0 0.271-0.229 0.5-0.5 0.5h-23c-0.271 0-0.5-0.229-0.5-0.5v-27c0-0.271 0.229-0.5 0.5-0.5 0 0 15.499-0 15.5 0v7c0 0.552 0.448 1 1 1h7v19.5z\"></path>\n",
       "<path d=\"M23 26h-14c-0.552 0-1-0.448-1-1s0.448-1 1-1h14c0.552 0 1 0.448 1 1s-0.448 1-1 1z\"></path>\n",
       "<path d=\"M23 22h-14c-0.552 0-1-0.448-1-1s0.448-1 1-1h14c0.552 0 1 0.448 1 1s-0.448 1-1 1z\"></path>\n",
       "<path d=\"M23 18h-14c-0.552 0-1-0.448-1-1s0.448-1 1-1h14c0.552 0 1 0.448 1 1s-0.448 1-1 1z\"></path>\n",
       "</symbol>\n",
       "</defs>\n",
       "</svg>\n",
       "<style>/* CSS stylesheet for displaying xarray objects in jupyterlab.\n",
       " *\n",
       " */\n",
       "\n",
       ":root {\n",
       "  --xr-font-color0: var(--jp-content-font-color0, rgba(0, 0, 0, 1));\n",
       "  --xr-font-color2: var(--jp-content-font-color2, rgba(0, 0, 0, 0.54));\n",
       "  --xr-font-color3: var(--jp-content-font-color3, rgba(0, 0, 0, 0.38));\n",
       "  --xr-border-color: var(--jp-border-color2, #e0e0e0);\n",
       "  --xr-disabled-color: var(--jp-layout-color3, #bdbdbd);\n",
       "  --xr-background-color: var(--jp-layout-color0, white);\n",
       "  --xr-background-color-row-even: var(--jp-layout-color1, white);\n",
       "  --xr-background-color-row-odd: var(--jp-layout-color2, #eeeeee);\n",
       "}\n",
       "\n",
       "html[theme=\"dark\"],\n",
       "html[data-theme=\"dark\"],\n",
       "body[data-theme=\"dark\"],\n",
       "body.vscode-dark {\n",
       "  --xr-font-color0: rgba(255, 255, 255, 1);\n",
       "  --xr-font-color2: rgba(255, 255, 255, 0.54);\n",
       "  --xr-font-color3: rgba(255, 255, 255, 0.38);\n",
       "  --xr-border-color: #1f1f1f;\n",
       "  --xr-disabled-color: #515151;\n",
       "  --xr-background-color: #111111;\n",
       "  --xr-background-color-row-even: #111111;\n",
       "  --xr-background-color-row-odd: #313131;\n",
       "}\n",
       "\n",
       ".xr-wrap {\n",
       "  display: block !important;\n",
       "  min-width: 300px;\n",
       "  max-width: 700px;\n",
       "}\n",
       "\n",
       ".xr-text-repr-fallback {\n",
       "  /* fallback to plain text repr when CSS is not injected (untrusted notebook) */\n",
       "  display: none;\n",
       "}\n",
       "\n",
       ".xr-header {\n",
       "  padding-top: 6px;\n",
       "  padding-bottom: 6px;\n",
       "  margin-bottom: 4px;\n",
       "  border-bottom: solid 1px var(--xr-border-color);\n",
       "}\n",
       "\n",
       ".xr-header > div,\n",
       ".xr-header > ul {\n",
       "  display: inline;\n",
       "  margin-top: 0;\n",
       "  margin-bottom: 0;\n",
       "}\n",
       "\n",
       ".xr-obj-type,\n",
       ".xr-array-name {\n",
       "  margin-left: 2px;\n",
       "  margin-right: 10px;\n",
       "}\n",
       "\n",
       ".xr-obj-type {\n",
       "  color: var(--xr-font-color2);\n",
       "}\n",
       "\n",
       ".xr-sections {\n",
       "  padding-left: 0 !important;\n",
       "  display: grid;\n",
       "  grid-template-columns: 150px auto auto 1fr 0 20px 0 20px;\n",
       "}\n",
       "\n",
       ".xr-section-item {\n",
       "  display: contents;\n",
       "}\n",
       "\n",
       ".xr-section-item input {\n",
       "  display: inline-block;\n",
       "  opacity: 0;\n",
       "  height: 0;\n",
       "}\n",
       "\n",
       ".xr-section-item input + label {\n",
       "  color: var(--xr-disabled-color);\n",
       "}\n",
       "\n",
       ".xr-section-item input:enabled + label {\n",
       "  cursor: pointer;\n",
       "  color: var(--xr-font-color2);\n",
       "}\n",
       "\n",
       ".xr-section-item input:focus + label {\n",
       "  border: 2px solid var(--xr-font-color0);\n",
       "}\n",
       "\n",
       ".xr-section-item input:enabled + label:hover {\n",
       "  color: var(--xr-font-color0);\n",
       "}\n",
       "\n",
       ".xr-section-summary {\n",
       "  grid-column: 1;\n",
       "  color: var(--xr-font-color2);\n",
       "  font-weight: 500;\n",
       "}\n",
       "\n",
       ".xr-section-summary > span {\n",
       "  display: inline-block;\n",
       "  padding-left: 0.5em;\n",
       "}\n",
       "\n",
       ".xr-section-summary-in:disabled + label {\n",
       "  color: var(--xr-font-color2);\n",
       "}\n",
       "\n",
       ".xr-section-summary-in + label:before {\n",
       "  display: inline-block;\n",
       "  content: \"►\";\n",
       "  font-size: 11px;\n",
       "  width: 15px;\n",
       "  text-align: center;\n",
       "}\n",
       "\n",
       ".xr-section-summary-in:disabled + label:before {\n",
       "  color: var(--xr-disabled-color);\n",
       "}\n",
       "\n",
       ".xr-section-summary-in:checked + label:before {\n",
       "  content: \"▼\";\n",
       "}\n",
       "\n",
       ".xr-section-summary-in:checked + label > span {\n",
       "  display: none;\n",
       "}\n",
       "\n",
       ".xr-section-summary,\n",
       ".xr-section-inline-details {\n",
       "  padding-top: 4px;\n",
       "  padding-bottom: 4px;\n",
       "}\n",
       "\n",
       ".xr-section-inline-details {\n",
       "  grid-column: 2 / -1;\n",
       "}\n",
       "\n",
       ".xr-section-details {\n",
       "  display: none;\n",
       "  grid-column: 1 / -1;\n",
       "  margin-bottom: 5px;\n",
       "}\n",
       "\n",
       ".xr-section-summary-in:checked ~ .xr-section-details {\n",
       "  display: contents;\n",
       "}\n",
       "\n",
       ".xr-array-wrap {\n",
       "  grid-column: 1 / -1;\n",
       "  display: grid;\n",
       "  grid-template-columns: 20px auto;\n",
       "}\n",
       "\n",
       ".xr-array-wrap > label {\n",
       "  grid-column: 1;\n",
       "  vertical-align: top;\n",
       "}\n",
       "\n",
       ".xr-preview {\n",
       "  color: var(--xr-font-color3);\n",
       "}\n",
       "\n",
       ".xr-array-preview,\n",
       ".xr-array-data {\n",
       "  padding: 0 5px !important;\n",
       "  grid-column: 2;\n",
       "}\n",
       "\n",
       ".xr-array-data,\n",
       ".xr-array-in:checked ~ .xr-array-preview {\n",
       "  display: none;\n",
       "}\n",
       "\n",
       ".xr-array-in:checked ~ .xr-array-data,\n",
       ".xr-array-preview {\n",
       "  display: inline-block;\n",
       "}\n",
       "\n",
       ".xr-dim-list {\n",
       "  display: inline-block !important;\n",
       "  list-style: none;\n",
       "  padding: 0 !important;\n",
       "  margin: 0;\n",
       "}\n",
       "\n",
       ".xr-dim-list li {\n",
       "  display: inline-block;\n",
       "  padding: 0;\n",
       "  margin: 0;\n",
       "}\n",
       "\n",
       ".xr-dim-list:before {\n",
       "  content: \"(\";\n",
       "}\n",
       "\n",
       ".xr-dim-list:after {\n",
       "  content: \")\";\n",
       "}\n",
       "\n",
       ".xr-dim-list li:not(:last-child):after {\n",
       "  content: \",\";\n",
       "  padding-right: 5px;\n",
       "}\n",
       "\n",
       ".xr-has-index {\n",
       "  font-weight: bold;\n",
       "}\n",
       "\n",
       ".xr-var-list,\n",
       ".xr-var-item {\n",
       "  display: contents;\n",
       "}\n",
       "\n",
       ".xr-var-item > div,\n",
       ".xr-var-item label,\n",
       ".xr-var-item > .xr-var-name span {\n",
       "  background-color: var(--xr-background-color-row-even);\n",
       "  margin-bottom: 0;\n",
       "}\n",
       "\n",
       ".xr-var-item > .xr-var-name:hover span {\n",
       "  padding-right: 5px;\n",
       "}\n",
       "\n",
       ".xr-var-list > li:nth-child(odd) > div,\n",
       ".xr-var-list > li:nth-child(odd) > label,\n",
       ".xr-var-list > li:nth-child(odd) > .xr-var-name span {\n",
       "  background-color: var(--xr-background-color-row-odd);\n",
       "}\n",
       "\n",
       ".xr-var-name {\n",
       "  grid-column: 1;\n",
       "}\n",
       "\n",
       ".xr-var-dims {\n",
       "  grid-column: 2;\n",
       "}\n",
       "\n",
       ".xr-var-dtype {\n",
       "  grid-column: 3;\n",
       "  text-align: right;\n",
       "  color: var(--xr-font-color2);\n",
       "}\n",
       "\n",
       ".xr-var-preview {\n",
       "  grid-column: 4;\n",
       "}\n",
       "\n",
       ".xr-index-preview {\n",
       "  grid-column: 2 / 5;\n",
       "  color: var(--xr-font-color2);\n",
       "}\n",
       "\n",
       ".xr-var-name,\n",
       ".xr-var-dims,\n",
       ".xr-var-dtype,\n",
       ".xr-preview,\n",
       ".xr-attrs dt {\n",
       "  white-space: nowrap;\n",
       "  overflow: hidden;\n",
       "  text-overflow: ellipsis;\n",
       "  padding-right: 10px;\n",
       "}\n",
       "\n",
       ".xr-var-name:hover,\n",
       ".xr-var-dims:hover,\n",
       ".xr-var-dtype:hover,\n",
       ".xr-attrs dt:hover {\n",
       "  overflow: visible;\n",
       "  width: auto;\n",
       "  z-index: 1;\n",
       "}\n",
       "\n",
       ".xr-var-attrs,\n",
       ".xr-var-data,\n",
       ".xr-index-data {\n",
       "  display: none;\n",
       "  background-color: var(--xr-background-color) !important;\n",
       "  padding-bottom: 5px !important;\n",
       "}\n",
       "\n",
       ".xr-var-attrs-in:checked ~ .xr-var-attrs,\n",
       ".xr-var-data-in:checked ~ .xr-var-data,\n",
       ".xr-index-data-in:checked ~ .xr-index-data {\n",
       "  display: block;\n",
       "}\n",
       "\n",
       ".xr-var-data > table {\n",
       "  float: right;\n",
       "}\n",
       "\n",
       ".xr-var-name span,\n",
       ".xr-var-data,\n",
       ".xr-index-name div,\n",
       ".xr-index-data,\n",
       ".xr-attrs {\n",
       "  padding-left: 25px !important;\n",
       "}\n",
       "\n",
       ".xr-attrs,\n",
       ".xr-var-attrs,\n",
       ".xr-var-data,\n",
       ".xr-index-data {\n",
       "  grid-column: 1 / -1;\n",
       "}\n",
       "\n",
       "dl.xr-attrs {\n",
       "  padding: 0;\n",
       "  margin: 0;\n",
       "  display: grid;\n",
       "  grid-template-columns: 125px auto;\n",
       "}\n",
       "\n",
       ".xr-attrs dt,\n",
       ".xr-attrs dd {\n",
       "  padding: 0;\n",
       "  margin: 0;\n",
       "  float: left;\n",
       "  padding-right: 10px;\n",
       "  width: auto;\n",
       "}\n",
       "\n",
       ".xr-attrs dt {\n",
       "  font-weight: normal;\n",
       "  grid-column: 1;\n",
       "}\n",
       "\n",
       ".xr-attrs dt:hover span {\n",
       "  display: inline-block;\n",
       "  background: var(--xr-background-color);\n",
       "  padding-right: 10px;\n",
       "}\n",
       "\n",
       ".xr-attrs dd {\n",
       "  grid-column: 2;\n",
       "  white-space: pre-wrap;\n",
       "  word-break: break-all;\n",
       "}\n",
       "\n",
       ".xr-icon-database,\n",
       ".xr-icon-file-text2,\n",
       ".xr-no-icon {\n",
       "  display: inline-block;\n",
       "  vertical-align: middle;\n",
       "  width: 1em;\n",
       "  height: 1.5em !important;\n",
       "  stroke-width: 0;\n",
       "  stroke: currentColor;\n",
       "  fill: currentColor;\n",
       "}\n",
       "</style><pre class='xr-text-repr-fallback'>&lt;xarray.Dataset&gt; Size: 159MB\n",
       "Dimensions:   (time: 49, cell: 196608)\n",
       "Coordinates:\n",
       "  * time      (time) datetime64[ns] 392B 2020-02-01 ... 2020-02-03\n",
       "    crs       int64 8B 0\n",
       "  * cell      (cell) int64 2MB 0 1 2 3 4 ... 196603 196604 196605 196606 196607\n",
       "    lat       (cell) float64 2MB 0.2984 0.5968 0.5968 ... -0.5968 -0.2984\n",
       "    lon       (cell) float64 2MB 45.0 45.35 44.65 45.0 ... 315.4 314.6 315.0\n",
       "Data variables:\n",
       "    ccs_mask  (time, cell) float64 77MB ...\n",
       "    mcs_mask  (time, cell) float64 77MB ...\n",
       "Attributes: (12/15)\n",
       "    Contact:                   Zhe Feng: zhe.feng@pnnl.gov\n",
       "    Created_on:                Thu May  8 10:17:25 2025\n",
       "    Institution:               Pacific Northwest National Laboratory\n",
       "    Title:                     HEALPix remapped tracking mask data (zoom=7)\n",
       "    linkpf:                    1\n",
       "    minimum_cloud_area:        800\n",
       "    ...                        ...\n",
       "    pf_smooth_window:          5\n",
       "    tb_threshold_coldanvil:    241.0\n",
       "    tb_threshold_core:         225.0\n",
       "    tb_threshold_environment:  261.0\n",
       "    tb_threshold_warmanvil:    261.0\n",
       "    zoom:                      7</pre><div class='xr-wrap' style='display:none'><div class='xr-header'><div class='xr-obj-type'>xarray.Dataset</div></div><ul class='xr-sections'><li class='xr-section-item'><input id='section-ca6d0ebf-f9cb-4917-970c-bf706d8be6f5' class='xr-section-summary-in' type='checkbox' disabled ><label for='section-ca6d0ebf-f9cb-4917-970c-bf706d8be6f5' class='xr-section-summary'  title='Expand/collapse section'>Dimensions:</label><div class='xr-section-inline-details'><ul class='xr-dim-list'><li><span class='xr-has-index'>time</span>: 49</li><li><span class='xr-has-index'>cell</span>: 196608</li></ul></div><div class='xr-section-details'></div></li><li class='xr-section-item'><input id='section-ea5fb5c7-a352-43c5-a66a-b33f8d2b586e' class='xr-section-summary-in' type='checkbox'  checked><label for='section-ea5fb5c7-a352-43c5-a66a-b33f8d2b586e' class='xr-section-summary' >Coordinates: <span>(5)</span></label><div class='xr-section-inline-details'></div><div class='xr-section-details'><ul class='xr-var-list'><li class='xr-var-item'><div class='xr-var-name'><span class='xr-has-index'>time</span></div><div class='xr-var-dims'>(time)</div><div class='xr-var-dtype'>datetime64[ns]</div><div class='xr-var-preview xr-preview'>2020-02-01 ... 2020-02-03</div><input id='attrs-9cd6699d-f918-4c0f-a07b-16a4013af9fe' class='xr-var-attrs-in' type='checkbox' ><label for='attrs-9cd6699d-f918-4c0f-a07b-16a4013af9fe' title='Show/Hide attributes'><svg class='icon xr-icon-file-text2'><use xlink:href='#icon-file-text2'></use></svg></label><input id='data-949368e0-5d24-4be6-83de-153326379323' class='xr-var-data-in' type='checkbox'><label for='data-949368e0-5d24-4be6-83de-153326379323' title='Show/Hide data repr'><svg class='icon xr-icon-database'><use xlink:href='#icon-database'></use></svg></label><div class='xr-var-attrs'><dl class='xr-attrs'><dt><span>long_name :</span></dt><dd>Base time in Epoch</dd></dl></div><div class='xr-var-data'><pre>array([&#x27;2020-02-01T00:00:00.000000000&#x27;, &#x27;2020-02-01T01:00:00.000000000&#x27;,\n",
       "       &#x27;2020-02-01T02:00:00.000000000&#x27;, &#x27;2020-02-01T03:00:00.000000000&#x27;,\n",
       "       &#x27;2020-02-01T04:00:00.000000000&#x27;, &#x27;2020-02-01T05:00:00.000000000&#x27;,\n",
       "       &#x27;2020-02-01T06:00:00.000000000&#x27;, &#x27;2020-02-01T07:00:00.000000000&#x27;,\n",
       "       &#x27;2020-02-01T08:00:00.000000000&#x27;, &#x27;2020-02-01T09:00:00.000000000&#x27;,\n",
       "       &#x27;2020-02-01T10:00:00.000000000&#x27;, &#x27;2020-02-01T11:00:00.000000000&#x27;,\n",
       "       &#x27;2020-02-01T12:00:00.000000000&#x27;, &#x27;2020-02-01T13:00:00.000000000&#x27;,\n",
       "       &#x27;2020-02-01T14:00:00.000000000&#x27;, &#x27;2020-02-01T15:00:00.000000000&#x27;,\n",
       "       &#x27;2020-02-01T16:00:00.000000000&#x27;, &#x27;2020-02-01T17:00:00.000000000&#x27;,\n",
       "       &#x27;2020-02-01T18:00:00.000000000&#x27;, &#x27;2020-02-01T19:00:00.000000000&#x27;,\n",
       "       &#x27;2020-02-01T20:00:00.000000000&#x27;, &#x27;2020-02-01T21:00:00.000000000&#x27;,\n",
       "       &#x27;2020-02-01T22:00:00.000000000&#x27;, &#x27;2020-02-01T23:00:00.000000000&#x27;,\n",
       "       &#x27;2020-02-02T00:00:00.000000000&#x27;, &#x27;2020-02-02T01:00:00.000000000&#x27;,\n",
       "       &#x27;2020-02-02T02:00:00.000000000&#x27;, &#x27;2020-02-02T03:00:00.000000000&#x27;,\n",
       "       &#x27;2020-02-02T04:00:00.000000000&#x27;, &#x27;2020-02-02T05:00:00.000000000&#x27;,\n",
       "       &#x27;2020-02-02T06:00:00.000000000&#x27;, &#x27;2020-02-02T07:00:00.000000000&#x27;,\n",
       "       &#x27;2020-02-02T08:00:00.000000000&#x27;, &#x27;2020-02-02T09:00:00.000000000&#x27;,\n",
       "       &#x27;2020-02-02T10:00:00.000000000&#x27;, &#x27;2020-02-02T11:00:00.000000000&#x27;,\n",
       "       &#x27;2020-02-02T12:00:00.000000000&#x27;, &#x27;2020-02-02T13:00:00.000000000&#x27;,\n",
       "       &#x27;2020-02-02T14:00:00.000000000&#x27;, &#x27;2020-02-02T15:00:00.000000000&#x27;,\n",
       "       &#x27;2020-02-02T16:00:00.000000000&#x27;, &#x27;2020-02-02T17:00:00.000000000&#x27;,\n",
       "       &#x27;2020-02-02T18:00:00.000000000&#x27;, &#x27;2020-02-02T19:00:00.000000000&#x27;,\n",
       "       &#x27;2020-02-02T20:00:00.000000000&#x27;, &#x27;2020-02-02T21:00:00.000000000&#x27;,\n",
       "       &#x27;2020-02-02T22:00:00.000000000&#x27;, &#x27;2020-02-02T23:00:00.000000000&#x27;,\n",
       "       &#x27;2020-02-03T00:00:00.000000000&#x27;], dtype=&#x27;datetime64[ns]&#x27;)</pre></div></li><li class='xr-var-item'><div class='xr-var-name'><span>crs</span></div><div class='xr-var-dims'>()</div><div class='xr-var-dtype'>int64</div><div class='xr-var-preview xr-preview'>0</div><input id='attrs-363cb82f-f200-4b0b-b2fc-4eb2c9f46fd8' class='xr-var-attrs-in' type='checkbox' ><label for='attrs-363cb82f-f200-4b0b-b2fc-4eb2c9f46fd8' title='Show/Hide attributes'><svg class='icon xr-icon-file-text2'><use xlink:href='#icon-file-text2'></use></svg></label><input id='data-2129f62f-8f6a-4ec9-beb5-374db80eae01' class='xr-var-data-in' type='checkbox'><label for='data-2129f62f-8f6a-4ec9-beb5-374db80eae01' title='Show/Hide data repr'><svg class='icon xr-icon-database'><use xlink:href='#icon-database'></use></svg></label><div class='xr-var-attrs'><dl class='xr-attrs'><dt><span>grid_mapping_name :</span></dt><dd>healpix</dd><dt><span>healpix_nside :</span></dt><dd>128</dd><dt><span>healpix_order :</span></dt><dd>nest</dd></dl></div><div class='xr-var-data'><pre>array(0)</pre></div></li><li class='xr-var-item'><div class='xr-var-name'><span class='xr-has-index'>cell</span></div><div class='xr-var-dims'>(cell)</div><div class='xr-var-dtype'>int64</div><div class='xr-var-preview xr-preview'>0 1 2 3 ... 196605 196606 196607</div><input id='attrs-cb20b2ad-3e51-416a-923b-e269b34b410b' class='xr-var-attrs-in' type='checkbox' disabled><label for='attrs-cb20b2ad-3e51-416a-923b-e269b34b410b' title='Show/Hide attributes'><svg class='icon xr-icon-file-text2'><use xlink:href='#icon-file-text2'></use></svg></label><input id='data-48ac48a2-9653-49f6-bc6f-ee3664bf427e' class='xr-var-data-in' type='checkbox'><label for='data-48ac48a2-9653-49f6-bc6f-ee3664bf427e' title='Show/Hide data repr'><svg class='icon xr-icon-database'><use xlink:href='#icon-database'></use></svg></label><div class='xr-var-attrs'><dl class='xr-attrs'></dl></div><div class='xr-var-data'><pre>array([     0,      1,      2, ..., 196605, 196606, 196607])</pre></div></li><li class='xr-var-item'><div class='xr-var-name'><span>lat</span></div><div class='xr-var-dims'>(cell)</div><div class='xr-var-dtype'>float64</div><div class='xr-var-preview xr-preview'>0.2984 0.5968 ... -0.5968 -0.2984</div><input id='attrs-f4ae5c2e-fb55-4012-8277-5a799e986351' class='xr-var-attrs-in' type='checkbox' ><label for='attrs-f4ae5c2e-fb55-4012-8277-5a799e986351' title='Show/Hide attributes'><svg class='icon xr-icon-file-text2'><use xlink:href='#icon-file-text2'></use></svg></label><input id='data-6df0385b-fbd8-4de4-adf5-e1178d15c03a' class='xr-var-data-in' type='checkbox'><label for='data-6df0385b-fbd8-4de4-adf5-e1178d15c03a' title='Show/Hide data repr'><svg class='icon xr-icon-database'><use xlink:href='#icon-database'></use></svg></label><div class='xr-var-attrs'><dl class='xr-attrs'><dt><span>units :</span></dt><dd>degree_north</dd><dt><span>standard_name :</span></dt><dd>latitude</dd><dt><span>axis :</span></dt><dd>Y</dd></dl></div><div class='xr-var-data'><pre>array([  0.29841687,   0.59684183,   0.59684183,   0.89528299,\n",
       "         0.89528299,   1.19374844,   1.19374844,   1.49224629,\n",
       "         0.89528299,   1.19374844,   1.19374844,   1.49224629,\n",
       "         1.49224629,   1.79078466,   1.79078466,   2.08937167,\n",
       "         1.49224629,   1.79078466,   1.79078466,   2.08937167,\n",
       "         2.08937167,   2.38801546,   2.38801546,   2.68672419,\n",
       "         2.08937167,   2.38801546,   2.38801546,   2.68672419,\n",
       "         2.68672419,   2.98550601,   2.98550601,   3.28436911,\n",
       "         1.49224629,   1.79078466,   1.79078466,   2.08937167,\n",
       "         2.08937167,   2.38801546,   2.38801546,   2.68672419,\n",
       "         2.08937167,   2.38801546,   2.38801546,   2.68672419,\n",
       "         2.68672419,   2.98550601,   2.98550601,   3.28436911,\n",
       "         2.68672419,   2.98550601,   2.98550601,   3.28436911,\n",
       "         3.28436911,   3.5833217 ,   3.5833217 ,   3.882372  ,\n",
       "         3.28436911,   3.5833217 ,   3.5833217 ,   3.882372  ,\n",
       "         3.882372  ,   4.18152827,   4.18152827,   4.48079879,\n",
       "         2.68672419,   2.98550601,   2.98550601,   3.28436911,\n",
       "         3.28436911,   3.5833217 ,   3.5833217 ,   3.882372  ,\n",
       "         3.28436911,   3.5833217 ,   3.5833217 ,   3.882372  ,\n",
       "         3.882372  ,   4.18152827,   4.18152827,   4.48079879,\n",
       "...\n",
       "        -4.48079879,  -4.18152827,  -4.18152827,  -3.882372  ,\n",
       "        -3.882372  ,  -3.5833217 ,  -3.5833217 ,  -3.28436911,\n",
       "        -3.882372  ,  -3.5833217 ,  -3.5833217 ,  -3.28436911,\n",
       "        -3.28436911,  -2.98550601,  -2.98550601,  -2.68672419,\n",
       "        -4.48079879,  -4.18152827,  -4.18152827,  -3.882372  ,\n",
       "        -3.882372  ,  -3.5833217 ,  -3.5833217 ,  -3.28436911,\n",
       "        -3.882372  ,  -3.5833217 ,  -3.5833217 ,  -3.28436911,\n",
       "        -3.28436911,  -2.98550601,  -2.98550601,  -2.68672419,\n",
       "        -3.28436911,  -2.98550601,  -2.98550601,  -2.68672419,\n",
       "        -2.68672419,  -2.38801546,  -2.38801546,  -2.08937167,\n",
       "        -2.68672419,  -2.38801546,  -2.38801546,  -2.08937167,\n",
       "        -2.08937167,  -1.79078466,  -1.79078466,  -1.49224629,\n",
       "        -3.28436911,  -2.98550601,  -2.98550601,  -2.68672419,\n",
       "        -2.68672419,  -2.38801546,  -2.38801546,  -2.08937167,\n",
       "        -2.68672419,  -2.38801546,  -2.38801546,  -2.08937167,\n",
       "        -2.08937167,  -1.79078466,  -1.79078466,  -1.49224629,\n",
       "        -2.08937167,  -1.79078466,  -1.79078466,  -1.49224629,\n",
       "        -1.49224629,  -1.19374844,  -1.19374844,  -0.89528299,\n",
       "        -1.49224629,  -1.19374844,  -1.19374844,  -0.89528299,\n",
       "        -0.89528299,  -0.59684183,  -0.59684183,  -0.29841687])</pre></div></li><li class='xr-var-item'><div class='xr-var-name'><span>lon</span></div><div class='xr-var-dims'>(cell)</div><div class='xr-var-dtype'>float64</div><div class='xr-var-preview xr-preview'>45.0 45.35 44.65 ... 314.6 315.0</div><input id='attrs-b9581c35-71b2-45df-8dc3-c98b486a2462' class='xr-var-attrs-in' type='checkbox' ><label for='attrs-b9581c35-71b2-45df-8dc3-c98b486a2462' title='Show/Hide attributes'><svg class='icon xr-icon-file-text2'><use xlink:href='#icon-file-text2'></use></svg></label><input id='data-1931b305-ea56-493f-99e7-7dd5bfbb702b' class='xr-var-data-in' type='checkbox'><label for='data-1931b305-ea56-493f-99e7-7dd5bfbb702b' title='Show/Hide data repr'><svg class='icon xr-icon-database'><use xlink:href='#icon-database'></use></svg></label><div class='xr-var-attrs'><dl class='xr-attrs'><dt><span>units :</span></dt><dd>degree_east</dd><dt><span>standard_name :</span></dt><dd>longitude</dd><dt><span>axis :</span></dt><dd>X</dd></dl></div><div class='xr-var-data'><pre>array([4.50000000e+01, 4.53515625e+01, 4.46484375e+01, 4.50000000e+01,\n",
       "       4.57031250e+01, 4.60546875e+01, 4.53515625e+01, 4.57031250e+01,\n",
       "       4.42968750e+01, 4.46484375e+01, 4.39453125e+01, 4.42968750e+01,\n",
       "       4.50000000e+01, 4.53515625e+01, 4.46484375e+01, 4.50000000e+01,\n",
       "       4.64062500e+01, 4.67578125e+01, 4.60546875e+01, 4.64062500e+01,\n",
       "       4.71093750e+01, 4.74609375e+01, 4.67578125e+01, 4.71093750e+01,\n",
       "       4.57031250e+01, 4.60546875e+01, 4.53515625e+01, 4.57031250e+01,\n",
       "       4.64062500e+01, 4.67578125e+01, 4.60546875e+01, 4.64062500e+01,\n",
       "       4.35937500e+01, 4.39453125e+01, 4.32421875e+01, 4.35937500e+01,\n",
       "       4.42968750e+01, 4.46484375e+01, 4.39453125e+01, 4.42968750e+01,\n",
       "       4.28906250e+01, 4.32421875e+01, 4.25390625e+01, 4.28906250e+01,\n",
       "       4.35937500e+01, 4.39453125e+01, 4.32421875e+01, 4.35937500e+01,\n",
       "       4.50000000e+01, 4.53515625e+01, 4.46484375e+01, 4.50000000e+01,\n",
       "       4.57031250e+01, 4.60546875e+01, 4.53515625e+01, 4.57031250e+01,\n",
       "       4.42968750e+01, 4.46484375e+01, 4.39453125e+01, 4.42968750e+01,\n",
       "       4.50000000e+01, 4.53515625e+01, 4.46484375e+01, 4.50000000e+01,\n",
       "       4.78125000e+01, 4.81640625e+01, 4.74609375e+01, 4.78125000e+01,\n",
       "       4.85156250e+01, 4.88671875e+01, 4.81640625e+01, 4.85156250e+01,\n",
       "       4.71093750e+01, 4.74609375e+01, 4.67578125e+01, 4.71093750e+01,\n",
       "       4.78125000e+01, 4.81640625e+01, 4.74609375e+01, 4.78125000e+01,\n",
       "...\n",
       "       3.12187500e+02, 3.12539062e+02, 3.11835938e+02, 3.12187500e+02,\n",
       "       3.12890625e+02, 3.13242188e+02, 3.12539062e+02, 3.12890625e+02,\n",
       "       3.11484375e+02, 3.11835938e+02, 3.11132812e+02, 3.11484375e+02,\n",
       "       3.12187500e+02, 3.12539062e+02, 3.11835938e+02, 3.12187500e+02,\n",
       "       3.15000000e+02, 3.15351562e+02, 3.14648438e+02, 3.15000000e+02,\n",
       "       3.15703125e+02, 3.16054688e+02, 3.15351562e+02, 3.15703125e+02,\n",
       "       3.14296875e+02, 3.14648438e+02, 3.13945312e+02, 3.14296875e+02,\n",
       "       3.15000000e+02, 3.15351562e+02, 3.14648438e+02, 3.15000000e+02,\n",
       "       3.16406250e+02, 3.16757812e+02, 3.16054688e+02, 3.16406250e+02,\n",
       "       3.17109375e+02, 3.17460938e+02, 3.16757812e+02, 3.17109375e+02,\n",
       "       3.15703125e+02, 3.16054688e+02, 3.15351562e+02, 3.15703125e+02,\n",
       "       3.16406250e+02, 3.16757812e+02, 3.16054688e+02, 3.16406250e+02,\n",
       "       3.13593750e+02, 3.13945312e+02, 3.13242188e+02, 3.13593750e+02,\n",
       "       3.14296875e+02, 3.14648438e+02, 3.13945312e+02, 3.14296875e+02,\n",
       "       3.12890625e+02, 3.13242188e+02, 3.12539062e+02, 3.12890625e+02,\n",
       "       3.13593750e+02, 3.13945312e+02, 3.13242188e+02, 3.13593750e+02,\n",
       "       3.15000000e+02, 3.15351562e+02, 3.14648438e+02, 3.15000000e+02,\n",
       "       3.15703125e+02, 3.16054688e+02, 3.15351562e+02, 3.15703125e+02,\n",
       "       3.14296875e+02, 3.14648438e+02, 3.13945312e+02, 3.14296875e+02,\n",
       "       3.15000000e+02, 3.15351562e+02, 3.14648438e+02, 3.15000000e+02])</pre></div></li></ul></div></li><li class='xr-section-item'><input id='section-512b0437-f929-4a39-b71a-8fa20a2ef3b6' class='xr-section-summary-in' type='checkbox'  checked><label for='section-512b0437-f929-4a39-b71a-8fa20a2ef3b6' class='xr-section-summary' >Data variables: <span>(2)</span></label><div class='xr-section-inline-details'></div><div class='xr-section-details'><ul class='xr-var-list'><li class='xr-var-item'><div class='xr-var-name'><span>ccs_mask</span></div><div class='xr-var-dims'>(time, cell)</div><div class='xr-var-dtype'>float64</div><div class='xr-var-preview xr-preview'>...</div><input id='attrs-fea52d9b-68e2-4448-bdf9-a4eb6a3533c1' class='xr-var-attrs-in' type='checkbox' ><label for='attrs-fea52d9b-68e2-4448-bdf9-a4eb6a3533c1' title='Show/Hide attributes'><svg class='icon xr-icon-file-text2'><use xlink:href='#icon-file-text2'></use></svg></label><input id='data-5d1c5d20-81ab-4dbd-92a8-3973009d3499' class='xr-var-data-in' type='checkbox'><label for='data-5d1c5d20-81ab-4dbd-92a8-3973009d3499' title='Show/Hide data repr'><svg class='icon xr-icon-database'><use xlink:href='#icon-database'></use></svg></label><div class='xr-var-attrs'><dl class='xr-attrs'><dt><span>comment :</span></dt><dd>extend of each cloud defined using warm anvil threshold</dd><dt><span>long_name :</span></dt><dd>grid with each classified cloud given a number</dd><dt><span>units :</span></dt><dd>unitless</dd></dl></div><div class='xr-var-data'><pre>[9633792 values with dtype=float64]</pre></div></li><li class='xr-var-item'><div class='xr-var-name'><span>mcs_mask</span></div><div class='xr-var-dims'>(time, cell)</div><div class='xr-var-dtype'>float64</div><div class='xr-var-preview xr-preview'>...</div><input id='attrs-344c927e-4011-416e-838c-affb9b179293' class='xr-var-attrs-in' type='checkbox' ><label for='attrs-344c927e-4011-416e-838c-affb9b179293' title='Show/Hide attributes'><svg class='icon xr-icon-file-text2'><use xlink:href='#icon-file-text2'></use></svg></label><input id='data-3748b3a4-f0f4-4db5-b09e-612c3904e928' class='xr-var-data-in' type='checkbox'><label for='data-3748b3a4-f0f4-4db5-b09e-612c3904e928' title='Show/Hide data repr'><svg class='icon xr-icon-database'><use xlink:href='#icon-database'></use></svg></label><div class='xr-var-attrs'><dl class='xr-attrs'><dt><span>comments :</span></dt><dd>This mask renumbers small merge/split tracks to the main track (e.g., MCS)</dd><dt><span>long_name :</span></dt><dd>Track number including merge/split</dd><dt><span>units :</span></dt><dd>unitless</dd></dl></div><div class='xr-var-data'><pre>[9633792 values with dtype=float64]</pre></div></li></ul></div></li><li class='xr-section-item'><input id='section-6c71dba4-81c3-4d47-a37f-a42a60c0fe87' class='xr-section-summary-in' type='checkbox'  ><label for='section-6c71dba4-81c3-4d47-a37f-a42a60c0fe87' class='xr-section-summary' >Indexes: <span>(2)</span></label><div class='xr-section-inline-details'></div><div class='xr-section-details'><ul class='xr-var-list'><li class='xr-var-item'><div class='xr-index-name'><div>time</div></div><div class='xr-index-preview'>PandasIndex</div><input type='checkbox' disabled/><label></label><input id='index-8fdd7c6c-6c44-439a-96bb-00215d450605' class='xr-index-data-in' type='checkbox'/><label for='index-8fdd7c6c-6c44-439a-96bb-00215d450605' title='Show/Hide index repr'><svg class='icon xr-icon-database'><use xlink:href='#icon-database'></use></svg></label><div class='xr-index-data'><pre>PandasIndex(DatetimeIndex([&#x27;2020-02-01 00:00:00&#x27;, &#x27;2020-02-01 01:00:00&#x27;,\n",
       "               &#x27;2020-02-01 02:00:00&#x27;, &#x27;2020-02-01 03:00:00&#x27;,\n",
       "               &#x27;2020-02-01 04:00:00&#x27;, &#x27;2020-02-01 05:00:00&#x27;,\n",
       "               &#x27;2020-02-01 06:00:00&#x27;, &#x27;2020-02-01 07:00:00&#x27;,\n",
       "               &#x27;2020-02-01 08:00:00&#x27;, &#x27;2020-02-01 09:00:00&#x27;,\n",
       "               &#x27;2020-02-01 10:00:00&#x27;, &#x27;2020-02-01 11:00:00&#x27;,\n",
       "               &#x27;2020-02-01 12:00:00&#x27;, &#x27;2020-02-01 13:00:00&#x27;,\n",
       "               &#x27;2020-02-01 14:00:00&#x27;, &#x27;2020-02-01 15:00:00&#x27;,\n",
       "               &#x27;2020-02-01 16:00:00&#x27;, &#x27;2020-02-01 17:00:00&#x27;,\n",
       "               &#x27;2020-02-01 18:00:00&#x27;, &#x27;2020-02-01 19:00:00&#x27;,\n",
       "               &#x27;2020-02-01 20:00:00&#x27;, &#x27;2020-02-01 21:00:00&#x27;,\n",
       "               &#x27;2020-02-01 22:00:00&#x27;, &#x27;2020-02-01 23:00:00&#x27;,\n",
       "               &#x27;2020-02-02 00:00:00&#x27;, &#x27;2020-02-02 01:00:00&#x27;,\n",
       "               &#x27;2020-02-02 02:00:00&#x27;, &#x27;2020-02-02 03:00:00&#x27;,\n",
       "               &#x27;2020-02-02 04:00:00&#x27;, &#x27;2020-02-02 05:00:00&#x27;,\n",
       "               &#x27;2020-02-02 06:00:00&#x27;, &#x27;2020-02-02 07:00:00&#x27;,\n",
       "               &#x27;2020-02-02 08:00:00&#x27;, &#x27;2020-02-02 09:00:00&#x27;,\n",
       "               &#x27;2020-02-02 10:00:00&#x27;, &#x27;2020-02-02 11:00:00&#x27;,\n",
       "               &#x27;2020-02-02 12:00:00&#x27;, &#x27;2020-02-02 13:00:00&#x27;,\n",
       "               &#x27;2020-02-02 14:00:00&#x27;, &#x27;2020-02-02 15:00:00&#x27;,\n",
       "               &#x27;2020-02-02 16:00:00&#x27;, &#x27;2020-02-02 17:00:00&#x27;,\n",
       "               &#x27;2020-02-02 18:00:00&#x27;, &#x27;2020-02-02 19:00:00&#x27;,\n",
       "               &#x27;2020-02-02 20:00:00&#x27;, &#x27;2020-02-02 21:00:00&#x27;,\n",
       "               &#x27;2020-02-02 22:00:00&#x27;, &#x27;2020-02-02 23:00:00&#x27;,\n",
       "               &#x27;2020-02-03 00:00:00&#x27;],\n",
       "              dtype=&#x27;datetime64[ns]&#x27;, name=&#x27;time&#x27;, freq=None))</pre></div></li><li class='xr-var-item'><div class='xr-index-name'><div>cell</div></div><div class='xr-index-preview'>PandasIndex</div><input type='checkbox' disabled/><label></label><input id='index-f3621f25-14cf-4ae3-b9db-54ecebc6c6a0' class='xr-index-data-in' type='checkbox'/><label for='index-f3621f25-14cf-4ae3-b9db-54ecebc6c6a0' title='Show/Hide index repr'><svg class='icon xr-icon-database'><use xlink:href='#icon-database'></use></svg></label><div class='xr-index-data'><pre>PandasIndex(Index([     0,      1,      2,      3,      4,      5,      6,      7,      8,\n",
       "            9,\n",
       "       ...\n",
       "       196598, 196599, 196600, 196601, 196602, 196603, 196604, 196605, 196606,\n",
       "       196607],\n",
       "      dtype=&#x27;int64&#x27;, name=&#x27;cell&#x27;, length=196608))</pre></div></li></ul></div></li><li class='xr-section-item'><input id='section-23c33cff-f3c9-40ea-af9f-76b23aa67b6a' class='xr-section-summary-in' type='checkbox'  ><label for='section-23c33cff-f3c9-40ea-af9f-76b23aa67b6a' class='xr-section-summary' >Attributes: <span>(15)</span></label><div class='xr-section-inline-details'></div><div class='xr-section-details'><dl class='xr-attrs'><dt><span>Contact :</span></dt><dd>Zhe Feng: zhe.feng@pnnl.gov</dd><dt><span>Created_on :</span></dt><dd>Thu May  8 10:17:25 2025</dd><dt><span>Institution :</span></dt><dd>Pacific Northwest National Laboratory</dd><dt><span>Title :</span></dt><dd>HEALPix remapped tracking mask data (zoom=7)</dd><dt><span>linkpf :</span></dt><dd>1</dd><dt><span>minimum_cloud_area :</span></dt><dd>800</dd><dt><span>pbc_direction :</span></dt><dd>x</dd><dt><span>pf_dbz_thresh :</span></dt><dd>1</dd><dt><span>pf_link_area_thresh :</span></dt><dd>648.0</dd><dt><span>pf_smooth_window :</span></dt><dd>5</dd><dt><span>tb_threshold_coldanvil :</span></dt><dd>241.0</dd><dt><span>tb_threshold_core :</span></dt><dd>225.0</dd><dt><span>tb_threshold_environment :</span></dt><dd>261.0</dd><dt><span>tb_threshold_warmanvil :</span></dt><dd>261.0</dd><dt><span>zoom :</span></dt><dd>7</dd></dl></div></li></ul></div></div>"
      ],
      "text/plain": [
       "<xarray.Dataset> Size: 159MB\n",
       "Dimensions:   (time: 49, cell: 196608)\n",
       "Coordinates:\n",
       "  * time      (time) datetime64[ns] 392B 2020-02-01 ... 2020-02-03\n",
       "    crs       int64 8B 0\n",
       "  * cell      (cell) int64 2MB 0 1 2 3 4 ... 196603 196604 196605 196606 196607\n",
       "    lat       (cell) float64 2MB 0.2984 0.5968 0.5968 ... -0.5968 -0.2984\n",
       "    lon       (cell) float64 2MB 45.0 45.35 44.65 45.0 ... 315.4 314.6 315.0\n",
       "Data variables:\n",
       "    ccs_mask  (time, cell) float64 77MB ...\n",
       "    mcs_mask  (time, cell) float64 77MB ...\n",
       "Attributes: (12/15)\n",
       "    Contact:                   Zhe Feng: zhe.feng@pnnl.gov\n",
       "    Created_on:                Thu May  8 10:17:25 2025\n",
       "    Institution:               Pacific Northwest National Laboratory\n",
       "    Title:                     HEALPix remapped tracking mask data (zoom=7)\n",
       "    linkpf:                    1\n",
       "    minimum_cloud_area:        800\n",
       "    ...                        ...\n",
       "    pf_smooth_window:          5\n",
       "    tb_threshold_coldanvil:    241.0\n",
       "    tb_threshold_core:         225.0\n",
       "    tb_threshold_environment:  261.0\n",
       "    tb_threshold_warmanvil:    261.0\n",
       "    zoom:                      7"
      ]
     },
     "execution_count": 15,
     "metadata": {},
     "output_type": "execute_result"
    }
   ],
   "source": [
    "%%time\n",
    "# Load the HEALPix result dataset\n",
    "print(f\"Read HEALPix MCS mask file: {healpix_filename}\")\n",
    "ds = xr.open_dataset(healpix_filename)\n",
    "ds = ds.pipe(egh.attach_coords)\n",
    "ds"
   ]
  },
  {
   "cell_type": "markdown",
   "id": "5775071d",
   "metadata": {},
   "source": [
    "### Plot a single time snapshot"
   ]
  },
  {
   "cell_type": "code",
   "execution_count": 16,
   "id": "dbf99abb",
   "metadata": {},
   "outputs": [
    {
     "name": "stdout",
     "output_type": "stream",
     "text": [
      "CPU times: user 159 ms, sys: 32.5 ms, total: 191 ms\n",
      "Wall time: 121 ms\n"
     ]
    },
    {
     "data": {
      "text/plain": [
       "Text(0.5, 1.0, 'MCS mask healpix zoom 7 (2020-02-01 10Z)')"
      ]
     },
     "execution_count": 16,
     "metadata": {},
     "output_type": "execute_result"
    },
    {
     "data": {
      "text/plain": [
       "<Figure size 640x480 with 0 Axes>"
      ]
     },
     "metadata": {},
     "output_type": "display_data"
    },
    {
     "data": {
      "image/png": "[encoded data removed]",
      "text/plain": [
       "<Figure size 640x480 with 1 Axes>"
      ]
     },
     "metadata": {},
     "output_type": "display_data"
    }
   ],
   "source": [
    "%%time\n",
    "\n",
    "# Get HEALPix remap zoom level from config\n",
    "hp_zoom = config.get(\"zarr_output_presets\").get(\"healpix\").get(\"zoom\")\n",
    "\n",
    "# Mask variable name\n",
    "varname = 'mcs_mask'\n",
    "# varname = 'ccs_mask'\n",
    "tm = 10\n",
    "t_str = ds.time.isel(time=tm).dt.strftime('%Y-%m-%d %HZ').item()\n",
    "\n",
    "egh.healpix_show(ds[varname].isel(time=tm), cmap='tab20')\n",
    "plt.title(f\"MCS mask healpix zoom {hp_zoom} ({t_str})\")"
   ]
  },
  {
   "cell_type": "markdown",
   "id": "1465dae6",
   "metadata": {},
   "source": [
    "### Calculate MCS frequency over a period"
   ]
  },
  {
   "cell_type": "code",
   "execution_count": 17,
   "id": "321df1b5",
   "metadata": {},
   "outputs": [],
   "source": [
    "# Get the start and end dates from the config\n",
    "sdate = pd.to_datetime(config.get('startdate'), format='%Y%m%d.%H%M')\n",
    "edate = pd.to_datetime(config.get('enddate'), format='%Y%m%d.%H%M')\n",
    "\n",
    "# Sum the MCS mask over the time dimension\n",
    "mcs_counts = (ds.mcs_mask.sel(time=slice(sdate, edate)) > 0).sum(dim='time')\n",
    "# Divide by the number of time steps to get the frequency\n",
    "ntimes = ds.time.sel(time=slice(sdate, edate)).sizes['time']\n",
    "mcs_freq = mcs_counts / ntimes"
   ]
  },
  {
   "cell_type": "code",
   "execution_count": 18,
   "id": "d58cde4f",
   "metadata": {},
   "outputs": [
    {
     "name": "stdout",
     "output_type": "stream",
     "text": [
      "CPU times: user 79.9 ms, sys: 4.62 ms, total: 84.5 ms\n",
      "Wall time: 70.7 ms\n"
     ]
    },
    {
     "data": {
      "text/plain": [
       "<matplotlib.colorbar.Colorbar at 0x7f7fa81c63c0>"
      ]
     },
     "execution_count": 18,
     "metadata": {},
     "output_type": "execute_result"
    },
    {
     "data": {
      "text/plain": [
       "<Figure size 640x480 with 0 Axes>"
      ]
     },
     "metadata": {},
     "output_type": "display_data"
    },
    {
     "data": {
      "image/png": "[encoded data removed]",
      "text/plain": [
       "<Figure size 640x480 with 2 Axes>"
      ]
     },
     "metadata": {},
     "output_type": "display_data"
    }
   ],
   "source": [
    "%%time\n",
    "\n",
    "t_str = f\"{sdate.strftime('%Y-%m-%d')} - {edate.strftime('%Y-%m-%d')}\"\n",
    "\n",
    "im = egh.healpix_show(mcs_freq, cmap='jet')\n",
    "plt.title(f\"MCS frequency healpix zoom {hp_zoom} ({t_str})\")\n",
    "plt.colorbar(im, label='Frequency', orientation='horizontal')"
   ]
  },
  {
   "cell_type": "markdown",
   "id": "1296d79b",
   "metadata": {},
   "source": [
    "## Clean Up Resources\n",
    "This step properly closes the Dask client if parallel processing was used."
   ]
  },
  {
   "cell_type": "code",
   "execution_count": 19,
   "id": "01238cfe",
   "metadata": {},
   "outputs": [
    {
     "name": "stdout",
     "output_type": "stream",
     "text": [
      "Shutting down Dask client...\n",
      "Dask client shutdown complete.\n"
     ]
    }
   ],
   "source": [
    "# Clean up resources\n",
    "if run_parallel >= 1:\n",
    "    print(\"Shutting down Dask client...\")\n",
    "    client.close()\n",
    "    print(\"Dask client shutdown complete.\")"
   ]
  }
 ],
 "metadata": {
  "kernelspec": {
   "display_name": "Python 3",
   "language": "python",
   "name": "python3"
  },
  "language_info": {
   "codemirror_mode": {
    "name": "ipython",
    "version": 3
   },
   "file_extension": ".py",
   "mimetype": "text/x-python",
   "name": "python",
   "nbconvert_exporter": "python",
   "pygments_lexer": "ipython3",
   "version": "3.12.9"
  }
 },
 "nbformat": 4,
 "nbformat_minor": 5
}
